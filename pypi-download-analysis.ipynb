{
 "cells": [
  {
   "cell_type": "markdown",
   "id": "a8c08cf4",
   "metadata": {
    "papermill": {
     "duration": 0.047648,
     "end_time": "2022-05-16T22:57:03.949636",
     "exception": false,
     "start_time": "2022-05-16T22:57:03.901988",
     "status": "completed"
    },
    "tags": []
   },
   "source": [
    "# [WIP] PyPI Download Analysis\n",
    "References:\n",
    "https://packaging.python.org/en/latest/guides/analyzing-pypi-package-downloads/#public-dataset"
   ]
  },
  {
   "cell_type": "code",
   "execution_count": 1,
   "id": "e1e44b2a",
   "metadata": {
    "_cell_guid": "b1076dfc-b9ad-4769-8c92-a6c4dae69d19",
    "_uuid": "8f2839f25d086af736a60e9eeb907d3b93b6e0e5",
    "execution": {
     "iopub.execute_input": "2022-05-16T22:57:04.039114Z",
     "iopub.status.busy": "2022-05-16T22:57:04.037305Z",
     "iopub.status.idle": "2022-05-16T22:57:04.373301Z",
     "shell.execute_reply": "2022-05-16T22:57:04.372355Z",
     "shell.execute_reply.started": "2022-05-16T22:51:41.377086Z"
    },
    "papermill": {
     "duration": 0.382679,
     "end_time": "2022-05-16T22:57:04.373483",
     "exception": false,
     "start_time": "2022-05-16T22:57:03.990804",
     "status": "completed"
    },
    "tags": []
   },
   "outputs": [
    {
     "name": "stdout",
     "output_type": "stream",
     "text": [
      "Using Kaggle's public dataset BigQuery integration.\n"
     ]
    }
   ],
   "source": [
    "import numpy as np\n",
    "import pandas as pd\n",
    "from google.cloud import bigquery\n",
    "import matplotlib.pyplot as plt\n",
    "\n",
    "client = bigquery.Client()\n",
    "dataset_ref = client.dataset(\"pypi\", project=\"bigquery-public-data\")\n",
    "dataset = client.get_dataset(dataset_ref)"
   ]
  },
  {
   "cell_type": "code",
   "execution_count": 2,
   "id": "03caeaa0",
   "metadata": {
    "execution": {
     "iopub.execute_input": "2022-05-16T22:57:04.466157Z",
     "iopub.status.busy": "2022-05-16T22:57:04.461104Z",
     "iopub.status.idle": "2022-05-16T22:57:04.659827Z",
     "shell.execute_reply": "2022-05-16T22:57:04.659203Z",
     "shell.execute_reply.started": "2022-05-16T22:07:09.573295Z"
    },
    "papermill": {
     "duration": 0.243188,
     "end_time": "2022-05-16T22:57:04.659986",
     "exception": false,
     "start_time": "2022-05-16T22:57:04.416798",
     "status": "completed"
    },
    "tags": []
   },
   "outputs": [
    {
     "name": "stdout",
     "output_type": "stream",
     "text": [
      "distribution_metadata\n",
      "file_downloads\n",
      "simple_requests\n"
     ]
    }
   ],
   "source": [
    "# List tables in each dataset\n",
    "tables = list(client.list_tables(dataset))\n",
    "\n",
    "for table in tables:  \n",
    "    print(table.table_id)"
   ]
  },
  {
   "cell_type": "code",
   "execution_count": 3,
   "id": "9c0ad015",
   "metadata": {
    "execution": {
     "iopub.execute_input": "2022-05-16T22:57:04.751848Z",
     "iopub.status.busy": "2022-05-16T22:57:04.751152Z",
     "iopub.status.idle": "2022-05-16T22:57:04.753281Z",
     "shell.execute_reply": "2022-05-16T22:57:04.753870Z",
     "shell.execute_reply.started": "2022-05-16T22:51:47.745221Z"
    },
    "papermill": {
     "duration": 0.05028,
     "end_time": "2022-05-16T22:57:04.754044",
     "exception": false,
     "start_time": "2022-05-16T22:57:04.703764",
     "status": "completed"
    },
    "tags": []
   },
   "outputs": [],
   "source": [
    "# Used for data usage estimation\n",
    "job_config = bigquery.QueryJobConfig(dry_run=True, use_query_cache=False)"
   ]
  },
  {
   "cell_type": "markdown",
   "id": "472efc3a",
   "metadata": {
    "papermill": {
     "duration": 0.042013,
     "end_time": "2022-05-16T22:57:04.843827",
     "exception": false,
     "start_time": "2022-05-16T22:57:04.801814",
     "status": "completed"
    },
    "tags": []
   },
   "source": [
    "# Preview each table in the dataset"
   ]
  },
  {
   "cell_type": "code",
   "execution_count": 4,
   "id": "7d84b6f9",
   "metadata": {
    "execution": {
     "iopub.execute_input": "2022-05-16T22:57:04.934822Z",
     "iopub.status.busy": "2022-05-16T22:57:04.934042Z",
     "iopub.status.idle": "2022-05-16T22:57:05.647918Z",
     "shell.execute_reply": "2022-05-16T22:57:05.649085Z",
     "shell.execute_reply.started": "2022-05-16T22:07:09.771606Z"
    },
    "papermill": {
     "duration": 0.763862,
     "end_time": "2022-05-16T22:57:05.649298",
     "exception": false,
     "start_time": "2022-05-16T22:57:04.885436",
     "status": "completed"
    },
    "tags": []
   },
   "outputs": [
    {
     "name": "stderr",
     "output_type": "stream",
     "text": [
      "/opt/conda/lib/python3.7/site-packages/ipykernel_launcher.py:3: UserWarning: Cannot use bqstorage_client if max_results is set, reverting to fetching data with the tabledata.list endpoint.\n",
      "  This is separate from the ipykernel package so we can avoid doing imports until\n"
     ]
    },
    {
     "data": {
      "text/html": [
       "<div>\n",
       "<style scoped>\n",
       "    .dataframe tbody tr th:only-of-type {\n",
       "        vertical-align: middle;\n",
       "    }\n",
       "\n",
       "    .dataframe tbody tr th {\n",
       "        vertical-align: top;\n",
       "    }\n",
       "\n",
       "    .dataframe thead th {\n",
       "        text-align: right;\n",
       "    }\n",
       "</style>\n",
       "<table border=\"1\" class=\"dataframe\">\n",
       "  <thead>\n",
       "    <tr style=\"text-align: right;\">\n",
       "      <th></th>\n",
       "      <th>metadata_version</th>\n",
       "      <th>name</th>\n",
       "      <th>version</th>\n",
       "      <th>summary</th>\n",
       "      <th>description</th>\n",
       "      <th>description_content_type</th>\n",
       "      <th>author</th>\n",
       "      <th>author_email</th>\n",
       "      <th>maintainer</th>\n",
       "      <th>maintainer_email</th>\n",
       "      <th>...</th>\n",
       "      <th>filename</th>\n",
       "      <th>size</th>\n",
       "      <th>path</th>\n",
       "      <th>python_version</th>\n",
       "      <th>packagetype</th>\n",
       "      <th>comment_text</th>\n",
       "      <th>has_signature</th>\n",
       "      <th>md5_digest</th>\n",
       "      <th>sha256_digest</th>\n",
       "      <th>blake2_256_digest</th>\n",
       "    </tr>\n",
       "  </thead>\n",
       "  <tbody>\n",
       "    <tr>\n",
       "      <th>0</th>\n",
       "      <td>2.1</td>\n",
       "      <td>dependency-injector</td>\n",
       "      <td>4.10.0</td>\n",
       "      <td>Dependency injection framework for Python</td>\n",
       "      <td>.. figure:: https://raw.githubusercontent.com/...</td>\n",
       "      <td>None</td>\n",
       "      <td>ETS Labs</td>\n",
       "      <td>rmogilatov@gmail.com</td>\n",
       "      <td>Roman Mogylatov</td>\n",
       "      <td>rmogilatov@gmail.com</td>\n",
       "      <td>...</td>\n",
       "      <td>dependency_injector-4.10.0-cp27-cp27m-macosx_1...</td>\n",
       "      <td>499570</td>\n",
       "      <td>54/2c/bae7d13aba02e7eaa577a7171c073d15af3e2aa2...</td>\n",
       "      <td>cp27</td>\n",
       "      <td>bdist_wheel</td>\n",
       "      <td>None</td>\n",
       "      <td>False</td>\n",
       "      <td>8c78c7a36f8f9bb789ca3728bbbeb076</td>\n",
       "      <td>b9294f0496d75a3384f1d0dd5658379b6ff7806e251221...</td>\n",
       "      <td>542cbae7d13aba02e7eaa577a7171c073d15af3e2aa2a0...</td>\n",
       "    </tr>\n",
       "    <tr>\n",
       "      <th>1</th>\n",
       "      <td>2.1</td>\n",
       "      <td>dependency-injector</td>\n",
       "      <td>4.10.0</td>\n",
       "      <td>Dependency injection framework for Python</td>\n",
       "      <td>.. figure:: https://raw.githubusercontent.com/...</td>\n",
       "      <td>None</td>\n",
       "      <td>ETS Labs</td>\n",
       "      <td>rmogilatov@gmail.com</td>\n",
       "      <td>Roman Mogylatov</td>\n",
       "      <td>rmogilatov@gmail.com</td>\n",
       "      <td>...</td>\n",
       "      <td>dependency_injector-4.10.0-pp36-pypy36_pp73-ma...</td>\n",
       "      <td>409476</td>\n",
       "      <td>1e/67/252a2b658c1ebff0ea7db0c39141dc1de8526729...</td>\n",
       "      <td>pp36</td>\n",
       "      <td>bdist_wheel</td>\n",
       "      <td>None</td>\n",
       "      <td>False</td>\n",
       "      <td>10a367c40704cf3591b1aa0283c34c48</td>\n",
       "      <td>a298fd8f173a9efabd283c5cc3ecd7f57366b7437fc509...</td>\n",
       "      <td>1e67252a2b658c1ebff0ea7db0c39141dc1de852672906...</td>\n",
       "    </tr>\n",
       "    <tr>\n",
       "      <th>2</th>\n",
       "      <td>2.1</td>\n",
       "      <td>python-networkmanager</td>\n",
       "      <td>2.2</td>\n",
       "      <td>Easy communication with NetworkManager</td>\n",
       "      <td>None</td>\n",
       "      <td>None</td>\n",
       "      <td>Dennis Kaarsemaker</td>\n",
       "      <td>dennis@kaarsemaker.net</td>\n",
       "      <td>None</td>\n",
       "      <td>None</td>\n",
       "      <td>...</td>\n",
       "      <td>python_networkmanager-2.2-py3-none-any.whl</td>\n",
       "      <td>12404</td>\n",
       "      <td>87/7d/7ef5e3e1e8d994d76321238289ece3dcb7096bca...</td>\n",
       "      <td>py3</td>\n",
       "      <td>bdist_wheel</td>\n",
       "      <td>None</td>\n",
       "      <td>False</td>\n",
       "      <td>a75f6f49af69c39d02af418dc652b34a</td>\n",
       "      <td>0c5e9c3f872426637ba68609272e71a42992a4fc7c1cf4...</td>\n",
       "      <td>877d7ef5e3e1e8d994d76321238289ece3dcb7096bcad6...</td>\n",
       "    </tr>\n",
       "    <tr>\n",
       "      <th>3</th>\n",
       "      <td>2.1</td>\n",
       "      <td>pygeometa</td>\n",
       "      <td>0.6.0</td>\n",
       "      <td>pygeometa is a Python package to generate meta...</td>\n",
       "      <td>[![Build Status](https://github.com/geopython/...</td>\n",
       "      <td>text/markdown</td>\n",
       "      <td>Meteorological Service of Canada</td>\n",
       "      <td>tom.kralidis@canada.ca</td>\n",
       "      <td>Meteorological Service of Canada</td>\n",
       "      <td>tom.kralidis@canada.ca</td>\n",
       "      <td>...</td>\n",
       "      <td>pygeometa-0.6.0-py2.py3-none-any.whl</td>\n",
       "      <td>54370</td>\n",
       "      <td>19/6d/8b60ab0a69e7db1e538ca7deec0fbcaceeb26ed6...</td>\n",
       "      <td>py2.py3</td>\n",
       "      <td>bdist_wheel</td>\n",
       "      <td>None</td>\n",
       "      <td>False</td>\n",
       "      <td>942d453669950aa91987c1dcf20755bd</td>\n",
       "      <td>49a6f61d26e6a29e925ec1d7b783cc6d8da9013ec8730c...</td>\n",
       "      <td>196d8b60ab0a69e7db1e538ca7deec0fbcaceeb26ed617...</td>\n",
       "    </tr>\n",
       "    <tr>\n",
       "      <th>4</th>\n",
       "      <td>2.1</td>\n",
       "      <td>hammer-sh</td>\n",
       "      <td>0.0.8</td>\n",
       "      <td>A package containing useful methods for my mas...</td>\n",
       "      <td># hammer_sh Python Package\\n\\n[![Version](http...</td>\n",
       "      <td>text/markdown</td>\n",
       "      <td>Sebastian Hammer</td>\n",
       "      <td>hammerse65450@th-nuernberg.de</td>\n",
       "      <td>None</td>\n",
       "      <td>None</td>\n",
       "      <td>...</td>\n",
       "      <td>hammer_sh-0.0.8.tar.gz</td>\n",
       "      <td>6438</td>\n",
       "      <td>18/7c/d98da6288340cd28fe859a76528652205d8a05c6...</td>\n",
       "      <td>source</td>\n",
       "      <td>sdist</td>\n",
       "      <td>None</td>\n",
       "      <td>False</td>\n",
       "      <td>caee7900f1fc4fe16107ff6e08e51846</td>\n",
       "      <td>76015d6fca3980fd1d602bb5bdf7b86823c6dbdfc48769...</td>\n",
       "      <td>187cd98da6288340cd28fe859a76528652205d8a05c626...</td>\n",
       "    </tr>\n",
       "  </tbody>\n",
       "</table>\n",
       "<p>5 rows × 37 columns</p>\n",
       "</div>"
      ],
      "text/plain": [
       "  metadata_version                   name version  \\\n",
       "0              2.1    dependency-injector  4.10.0   \n",
       "1              2.1    dependency-injector  4.10.0   \n",
       "2              2.1  python-networkmanager     2.2   \n",
       "3              2.1              pygeometa   0.6.0   \n",
       "4              2.1              hammer-sh   0.0.8   \n",
       "\n",
       "                                             summary  \\\n",
       "0          Dependency injection framework for Python   \n",
       "1          Dependency injection framework for Python   \n",
       "2             Easy communication with NetworkManager   \n",
       "3  pygeometa is a Python package to generate meta...   \n",
       "4  A package containing useful methods for my mas...   \n",
       "\n",
       "                                         description description_content_type  \\\n",
       "0  .. figure:: https://raw.githubusercontent.com/...                     None   \n",
       "1  .. figure:: https://raw.githubusercontent.com/...                     None   \n",
       "2                                               None                     None   \n",
       "3  [![Build Status](https://github.com/geopython/...            text/markdown   \n",
       "4  # hammer_sh Python Package\\n\\n[![Version](http...            text/markdown   \n",
       "\n",
       "                             author                   author_email  \\\n",
       "0                          ETS Labs           rmogilatov@gmail.com   \n",
       "1                          ETS Labs           rmogilatov@gmail.com   \n",
       "2                Dennis Kaarsemaker         dennis@kaarsemaker.net   \n",
       "3  Meteorological Service of Canada         tom.kralidis@canada.ca   \n",
       "4                  Sebastian Hammer  hammerse65450@th-nuernberg.de   \n",
       "\n",
       "                         maintainer        maintainer_email  ...  \\\n",
       "0                   Roman Mogylatov    rmogilatov@gmail.com  ...   \n",
       "1                   Roman Mogylatov    rmogilatov@gmail.com  ...   \n",
       "2                              None                    None  ...   \n",
       "3  Meteorological Service of Canada  tom.kralidis@canada.ca  ...   \n",
       "4                              None                    None  ...   \n",
       "\n",
       "                                            filename    size  \\\n",
       "0  dependency_injector-4.10.0-cp27-cp27m-macosx_1...  499570   \n",
       "1  dependency_injector-4.10.0-pp36-pypy36_pp73-ma...  409476   \n",
       "2         python_networkmanager-2.2-py3-none-any.whl   12404   \n",
       "3               pygeometa-0.6.0-py2.py3-none-any.whl   54370   \n",
       "4                             hammer_sh-0.0.8.tar.gz    6438   \n",
       "\n",
       "                                                path python_version  \\\n",
       "0  54/2c/bae7d13aba02e7eaa577a7171c073d15af3e2aa2...           cp27   \n",
       "1  1e/67/252a2b658c1ebff0ea7db0c39141dc1de8526729...           pp36   \n",
       "2  87/7d/7ef5e3e1e8d994d76321238289ece3dcb7096bca...            py3   \n",
       "3  19/6d/8b60ab0a69e7db1e538ca7deec0fbcaceeb26ed6...        py2.py3   \n",
       "4  18/7c/d98da6288340cd28fe859a76528652205d8a05c6...         source   \n",
       "\n",
       "   packagetype comment_text has_signature                        md5_digest  \\\n",
       "0  bdist_wheel         None         False  8c78c7a36f8f9bb789ca3728bbbeb076   \n",
       "1  bdist_wheel         None         False  10a367c40704cf3591b1aa0283c34c48   \n",
       "2  bdist_wheel         None         False  a75f6f49af69c39d02af418dc652b34a   \n",
       "3  bdist_wheel         None         False  942d453669950aa91987c1dcf20755bd   \n",
       "4        sdist         None         False  caee7900f1fc4fe16107ff6e08e51846   \n",
       "\n",
       "                                       sha256_digest  \\\n",
       "0  b9294f0496d75a3384f1d0dd5658379b6ff7806e251221...   \n",
       "1  a298fd8f173a9efabd283c5cc3ecd7f57366b7437fc509...   \n",
       "2  0c5e9c3f872426637ba68609272e71a42992a4fc7c1cf4...   \n",
       "3  49a6f61d26e6a29e925ec1d7b783cc6d8da9013ec8730c...   \n",
       "4  76015d6fca3980fd1d602bb5bdf7b86823c6dbdfc48769...   \n",
       "\n",
       "                                   blake2_256_digest  \n",
       "0  542cbae7d13aba02e7eaa577a7171c073d15af3e2aa2a0...  \n",
       "1  1e67252a2b658c1ebff0ea7db0c39141dc1de852672906...  \n",
       "2  877d7ef5e3e1e8d994d76321238289ece3dcb7096bcad6...  \n",
       "3  196d8b60ab0a69e7db1e538ca7deec0fbcaceeb26ed617...  \n",
       "4  187cd98da6288340cd28fe859a76528652205d8a05c626...  \n",
       "\n",
       "[5 rows x 37 columns]"
      ]
     },
     "execution_count": 4,
     "metadata": {},
     "output_type": "execute_result"
    }
   ],
   "source": [
    "table_ref = dataset_ref.table(\"distribution_metadata\")\n",
    "table = client.get_table(table_ref)\n",
    "client.list_rows(table, max_results=5).to_dataframe()"
   ]
  },
  {
   "cell_type": "code",
   "execution_count": 5,
   "id": "89834414",
   "metadata": {
    "execution": {
     "iopub.execute_input": "2022-05-16T22:57:05.746812Z",
     "iopub.status.busy": "2022-05-16T22:57:05.745859Z",
     "iopub.status.idle": "2022-05-16T22:57:08.202853Z",
     "shell.execute_reply": "2022-05-16T22:57:08.203370Z",
     "shell.execute_reply.started": "2022-05-16T22:07:10.622875Z"
    },
    "papermill": {
     "duration": 2.506719,
     "end_time": "2022-05-16T22:57:08.203572",
     "exception": false,
     "start_time": "2022-05-16T22:57:05.696853",
     "status": "completed"
    },
    "tags": []
   },
   "outputs": [
    {
     "name": "stderr",
     "output_type": "stream",
     "text": [
      "/opt/conda/lib/python3.7/site-packages/ipykernel_launcher.py:3: UserWarning: Cannot use bqstorage_client if max_results is set, reverting to fetching data with the tabledata.list endpoint.\n",
      "  This is separate from the ipykernel package so we can avoid doing imports until\n"
     ]
    },
    {
     "data": {
      "text/html": [
       "<div>\n",
       "<style scoped>\n",
       "    .dataframe tbody tr th:only-of-type {\n",
       "        vertical-align: middle;\n",
       "    }\n",
       "\n",
       "    .dataframe tbody tr th {\n",
       "        vertical-align: top;\n",
       "    }\n",
       "\n",
       "    .dataframe thead th {\n",
       "        text-align: right;\n",
       "    }\n",
       "</style>\n",
       "<table border=\"1\" class=\"dataframe\">\n",
       "  <thead>\n",
       "    <tr style=\"text-align: right;\">\n",
       "      <th></th>\n",
       "      <th>timestamp</th>\n",
       "      <th>country_code</th>\n",
       "      <th>url</th>\n",
       "      <th>project</th>\n",
       "      <th>file</th>\n",
       "      <th>details</th>\n",
       "      <th>tls_protocol</th>\n",
       "      <th>tls_cipher</th>\n",
       "    </tr>\n",
       "  </thead>\n",
       "  <tbody>\n",
       "    <tr>\n",
       "      <th>0</th>\n",
       "      <td>2021-01-16 16:37:29+00:00</td>\n",
       "      <td>FR</td>\n",
       "      <td>/packages/ca/95/51ddd56f7599044e490762ed61fb35...</td>\n",
       "      <td>a8</td>\n",
       "      <td>{'filename': 'a8-0.3.zip', 'project': 'a8', 'v...</td>\n",
       "      <td>None</td>\n",
       "      <td>TLSv1.2</td>\n",
       "      <td>ECDHE-RSA-AES128-GCM-SHA256</td>\n",
       "    </tr>\n",
       "    <tr>\n",
       "      <th>1</th>\n",
       "      <td>2021-01-16 14:58:10+00:00</td>\n",
       "      <td>FR</td>\n",
       "      <td>/packages/05/53/27e210b9ddbebeb8c77255de0fa92c...</td>\n",
       "      <td>ach</td>\n",
       "      <td>{'filename': 'ach-0.1.1.tar.gz', 'project': 'a...</td>\n",
       "      <td>None</td>\n",
       "      <td>TLSv1.2</td>\n",
       "      <td>ECDHE-RSA-AES128-GCM-SHA256</td>\n",
       "    </tr>\n",
       "    <tr>\n",
       "      <th>2</th>\n",
       "      <td>2021-01-16 14:38:23+00:00</td>\n",
       "      <td>US</td>\n",
       "      <td>/packages/c3/f2/6c5061a3e851b0330c5c89c34a54f2...</td>\n",
       "      <td>aclass</td>\n",
       "      <td>{'filename': 'aclass-0.0.8.tar.gz', 'project':...</td>\n",
       "      <td>None</td>\n",
       "      <td>TLSv1.2</td>\n",
       "      <td>ECDHE-RSA-AES128-GCM-SHA256</td>\n",
       "    </tr>\n",
       "    <tr>\n",
       "      <th>3</th>\n",
       "      <td>2021-01-16 14:38:23+00:00</td>\n",
       "      <td>US</td>\n",
       "      <td>/packages/bb/11/5d5d20f331dfa59de76790e1ed75c1...</td>\n",
       "      <td>aclass</td>\n",
       "      <td>{'filename': 'aclass-0.0.9.tar.gz', 'project':...</td>\n",
       "      <td>None</td>\n",
       "      <td>TLSv1.2</td>\n",
       "      <td>ECDHE-RSA-AES128-GCM-SHA256</td>\n",
       "    </tr>\n",
       "    <tr>\n",
       "      <th>4</th>\n",
       "      <td>2021-01-16 15:36:30+00:00</td>\n",
       "      <td>FR</td>\n",
       "      <td>/packages/62/5c/09102f7a712ad863a4980381fcc17b...</td>\n",
       "      <td>aaa2-1-1</td>\n",
       "      <td>{'filename': 'aaa2.1.1-2.1.1.tar.gz', 'project...</td>\n",
       "      <td>None</td>\n",
       "      <td>TLSv1.2</td>\n",
       "      <td>ECDHE-RSA-AES128-GCM-SHA256</td>\n",
       "    </tr>\n",
       "  </tbody>\n",
       "</table>\n",
       "</div>"
      ],
      "text/plain": [
       "                  timestamp country_code  \\\n",
       "0 2021-01-16 16:37:29+00:00           FR   \n",
       "1 2021-01-16 14:58:10+00:00           FR   \n",
       "2 2021-01-16 14:38:23+00:00           US   \n",
       "3 2021-01-16 14:38:23+00:00           US   \n",
       "4 2021-01-16 15:36:30+00:00           FR   \n",
       "\n",
       "                                                 url   project  \\\n",
       "0  /packages/ca/95/51ddd56f7599044e490762ed61fb35...        a8   \n",
       "1  /packages/05/53/27e210b9ddbebeb8c77255de0fa92c...       ach   \n",
       "2  /packages/c3/f2/6c5061a3e851b0330c5c89c34a54f2...    aclass   \n",
       "3  /packages/bb/11/5d5d20f331dfa59de76790e1ed75c1...    aclass   \n",
       "4  /packages/62/5c/09102f7a712ad863a4980381fcc17b...  aaa2-1-1   \n",
       "\n",
       "                                                file details tls_protocol  \\\n",
       "0  {'filename': 'a8-0.3.zip', 'project': 'a8', 'v...    None      TLSv1.2   \n",
       "1  {'filename': 'ach-0.1.1.tar.gz', 'project': 'a...    None      TLSv1.2   \n",
       "2  {'filename': 'aclass-0.0.8.tar.gz', 'project':...    None      TLSv1.2   \n",
       "3  {'filename': 'aclass-0.0.9.tar.gz', 'project':...    None      TLSv1.2   \n",
       "4  {'filename': 'aaa2.1.1-2.1.1.tar.gz', 'project...    None      TLSv1.2   \n",
       "\n",
       "                    tls_cipher  \n",
       "0  ECDHE-RSA-AES128-GCM-SHA256  \n",
       "1  ECDHE-RSA-AES128-GCM-SHA256  \n",
       "2  ECDHE-RSA-AES128-GCM-SHA256  \n",
       "3  ECDHE-RSA-AES128-GCM-SHA256  \n",
       "4  ECDHE-RSA-AES128-GCM-SHA256  "
      ]
     },
     "execution_count": 5,
     "metadata": {},
     "output_type": "execute_result"
    }
   ],
   "source": [
    "table_ref = dataset_ref.table(\"file_downloads\")\n",
    "table = client.get_table(table_ref)\n",
    "client.list_rows(table, max_results=5).to_dataframe()"
   ]
  },
  {
   "cell_type": "code",
   "execution_count": 6,
   "id": "18674312",
   "metadata": {
    "execution": {
     "iopub.execute_input": "2022-05-16T22:57:08.297017Z",
     "iopub.status.busy": "2022-05-16T22:57:08.296362Z",
     "iopub.status.idle": "2022-05-16T22:57:10.131109Z",
     "shell.execute_reply": "2022-05-16T22:57:10.130401Z",
     "shell.execute_reply.started": "2022-05-16T22:07:13.048049Z"
    },
    "papermill": {
     "duration": 1.881625,
     "end_time": "2022-05-16T22:57:10.131255",
     "exception": false,
     "start_time": "2022-05-16T22:57:08.249630",
     "status": "completed"
    },
    "tags": []
   },
   "outputs": [
    {
     "name": "stderr",
     "output_type": "stream",
     "text": [
      "/opt/conda/lib/python3.7/site-packages/ipykernel_launcher.py:3: UserWarning: Cannot use bqstorage_client if max_results is set, reverting to fetching data with the tabledata.list endpoint.\n",
      "  This is separate from the ipykernel package so we can avoid doing imports until\n"
     ]
    },
    {
     "data": {
      "text/html": [
       "<div>\n",
       "<style scoped>\n",
       "    .dataframe tbody tr th:only-of-type {\n",
       "        vertical-align: middle;\n",
       "    }\n",
       "\n",
       "    .dataframe tbody tr th {\n",
       "        vertical-align: top;\n",
       "    }\n",
       "\n",
       "    .dataframe thead th {\n",
       "        text-align: right;\n",
       "    }\n",
       "</style>\n",
       "<table border=\"1\" class=\"dataframe\">\n",
       "  <thead>\n",
       "    <tr style=\"text-align: right;\">\n",
       "      <th></th>\n",
       "      <th>timestamp</th>\n",
       "      <th>country_code</th>\n",
       "      <th>url</th>\n",
       "      <th>project</th>\n",
       "      <th>details</th>\n",
       "      <th>tls_protocol</th>\n",
       "      <th>tls_cipher</th>\n",
       "    </tr>\n",
       "  </thead>\n",
       "  <tbody>\n",
       "    <tr>\n",
       "      <th>0</th>\n",
       "      <td>2021-01-16 22:24:51+00:00</td>\n",
       "      <td>US</td>\n",
       "      <td>/simple/addons/</td>\n",
       "      <td>addons</td>\n",
       "      <td>{'installer': {'name': 'pip', 'version': '7.1....</td>\n",
       "      <td>TLSv1.2</td>\n",
       "      <td>ECDHE-RSA-AES128-GCM-SHA256</td>\n",
       "    </tr>\n",
       "    <tr>\n",
       "      <th>1</th>\n",
       "      <td>2021-01-16 20:48:54+00:00</td>\n",
       "      <td>IL</td>\n",
       "      <td>/simple/addons/</td>\n",
       "      <td>addons</td>\n",
       "      <td>{'installer': {'name': 'pip', 'version': '7.1....</td>\n",
       "      <td>TLSv1.2</td>\n",
       "      <td>ECDHE-RSA-AES128-GCM-SHA256</td>\n",
       "    </tr>\n",
       "    <tr>\n",
       "      <th>2</th>\n",
       "      <td>2021-01-16 20:37:49+00:00</td>\n",
       "      <td>SG</td>\n",
       "      <td>/simple/addons/</td>\n",
       "      <td>addons</td>\n",
       "      <td>{'installer': {'name': 'pip', 'version': '7.1....</td>\n",
       "      <td>TLSv1.2</td>\n",
       "      <td>ECDHE-RSA-AES128-GCM-SHA256</td>\n",
       "    </tr>\n",
       "    <tr>\n",
       "      <th>3</th>\n",
       "      <td>2021-01-16 20:36:04+00:00</td>\n",
       "      <td>CA</td>\n",
       "      <td>/simple/addons/</td>\n",
       "      <td>addons</td>\n",
       "      <td>{'installer': {'name': 'pip', 'version': '7.1....</td>\n",
       "      <td>TLSv1.2</td>\n",
       "      <td>ECDHE-RSA-AES128-GCM-SHA256</td>\n",
       "    </tr>\n",
       "    <tr>\n",
       "      <th>4</th>\n",
       "      <td>2021-01-16 21:01:16+00:00</td>\n",
       "      <td>US</td>\n",
       "      <td>/simple/addons/</td>\n",
       "      <td>addons</td>\n",
       "      <td>{'installer': {'name': 'pip', 'version': '9.0....</td>\n",
       "      <td>TLSv1.2</td>\n",
       "      <td>ECDHE-RSA-AES128-GCM-SHA256</td>\n",
       "    </tr>\n",
       "  </tbody>\n",
       "</table>\n",
       "</div>"
      ],
      "text/plain": [
       "                  timestamp country_code              url project  \\\n",
       "0 2021-01-16 22:24:51+00:00           US  /simple/addons/  addons   \n",
       "1 2021-01-16 20:48:54+00:00           IL  /simple/addons/  addons   \n",
       "2 2021-01-16 20:37:49+00:00           SG  /simple/addons/  addons   \n",
       "3 2021-01-16 20:36:04+00:00           CA  /simple/addons/  addons   \n",
       "4 2021-01-16 21:01:16+00:00           US  /simple/addons/  addons   \n",
       "\n",
       "                                             details tls_protocol  \\\n",
       "0  {'installer': {'name': 'pip', 'version': '7.1....      TLSv1.2   \n",
       "1  {'installer': {'name': 'pip', 'version': '7.1....      TLSv1.2   \n",
       "2  {'installer': {'name': 'pip', 'version': '7.1....      TLSv1.2   \n",
       "3  {'installer': {'name': 'pip', 'version': '7.1....      TLSv1.2   \n",
       "4  {'installer': {'name': 'pip', 'version': '9.0....      TLSv1.2   \n",
       "\n",
       "                    tls_cipher  \n",
       "0  ECDHE-RSA-AES128-GCM-SHA256  \n",
       "1  ECDHE-RSA-AES128-GCM-SHA256  \n",
       "2  ECDHE-RSA-AES128-GCM-SHA256  \n",
       "3  ECDHE-RSA-AES128-GCM-SHA256  \n",
       "4  ECDHE-RSA-AES128-GCM-SHA256  "
      ]
     },
     "execution_count": 6,
     "metadata": {},
     "output_type": "execute_result"
    }
   ],
   "source": [
    "table_ref = dataset_ref.table(\"simple_requests\")\n",
    "table = client.get_table(table_ref)\n",
    "client.list_rows(table, max_results=5).to_dataframe()"
   ]
  },
  {
   "cell_type": "markdown",
   "id": "c1303126",
   "metadata": {
    "papermill": {
     "duration": 0.05143,
     "end_time": "2022-05-16T22:57:10.232830",
     "exception": false,
     "start_time": "2022-05-16T22:57:10.181400",
     "status": "completed"
    },
    "tags": []
   },
   "source": [
    "# Query time !\n"
   ]
  },
  {
   "cell_type": "markdown",
   "id": "79ca76ab",
   "metadata": {
    "papermill": {
     "duration": 0.047729,
     "end_time": "2022-05-16T22:57:10.327998",
     "exception": false,
     "start_time": "2022-05-16T22:57:10.280269",
     "status": "completed"
    },
    "tags": []
   },
   "source": [
    "Find the most downloaded packages today."
   ]
  },
  {
   "cell_type": "code",
   "execution_count": 7,
   "id": "80763424",
   "metadata": {
    "execution": {
     "iopub.execute_input": "2022-05-16T22:57:10.426457Z",
     "iopub.status.busy": "2022-05-16T22:57:10.425769Z",
     "iopub.status.idle": "2022-05-16T22:57:12.380253Z",
     "shell.execute_reply": "2022-05-16T22:57:12.380852Z",
     "shell.execute_reply.started": "2022-05-16T22:07:15.00807Z"
    },
    "papermill": {
     "duration": 2.004523,
     "end_time": "2022-05-16T22:57:12.381078",
     "exception": false,
     "start_time": "2022-05-16T22:57:10.376555",
     "status": "completed"
    },
    "tags": []
   },
   "outputs": [
    {
     "name": "stdout",
     "output_type": "stream",
     "text": [
      "11442531488\n"
     ]
    }
   ],
   "source": [
    "query = \"\"\"\n",
    "        SELECT project, count(*) AS download_counts\n",
    "        FROM `bigquery-public-data.pypi.file_downloads`\n",
    "        WHERE DATE(timestamp) = CURRENT_DATE()\n",
    "        GROUP BY project\n",
    "        \"\"\"\n",
    "\n",
    "test_query_job = client.query(query, job_config=job_config) # Dry run\n",
    "print(test_query_job.total_bytes_processed)"
   ]
  },
  {
   "cell_type": "code",
   "execution_count": 8,
   "id": "569ca38d",
   "metadata": {
    "execution": {
     "iopub.execute_input": "2022-05-16T22:57:12.484263Z",
     "iopub.status.busy": "2022-05-16T22:57:12.483478Z",
     "iopub.status.idle": "2022-05-16T22:57:25.236934Z",
     "shell.execute_reply": "2022-05-16T22:57:25.237504Z",
     "shell.execute_reply.started": "2022-05-16T22:07:17.233579Z"
    },
    "papermill": {
     "duration": 12.809549,
     "end_time": "2022-05-16T22:57:25.237703",
     "exception": false,
     "start_time": "2022-05-16T22:57:12.428154",
     "status": "completed"
    },
    "tags": []
   },
   "outputs": [
    {
     "name": "stderr",
     "output_type": "stream",
     "text": [
      "/opt/conda/lib/python3.7/site-packages/google/cloud/bigquery/client.py:440: UserWarning: Cannot create BigQuery Storage client, the dependency google-cloud-bigquery-storage is not installed.\n",
      "  \"Cannot create BigQuery Storage client, the dependency \"\n"
     ]
    },
    {
     "name": "stdout",
     "output_type": "stream",
     "text": [
      "Used 11443109888 bytes\n"
     ]
    },
    {
     "data": {
      "text/html": [
       "<div>\n",
       "<style scoped>\n",
       "    .dataframe tbody tr th:only-of-type {\n",
       "        vertical-align: middle;\n",
       "    }\n",
       "\n",
       "    .dataframe tbody tr th {\n",
       "        vertical-align: top;\n",
       "    }\n",
       "\n",
       "    .dataframe thead th {\n",
       "        text-align: right;\n",
       "    }\n",
       "</style>\n",
       "<table border=\"1\" class=\"dataframe\">\n",
       "  <thead>\n",
       "    <tr style=\"text-align: right;\">\n",
       "      <th></th>\n",
       "      <th>project</th>\n",
       "      <th>download_counts</th>\n",
       "    </tr>\n",
       "  </thead>\n",
       "  <tbody>\n",
       "    <tr>\n",
       "      <th>0</th>\n",
       "      <td>angrop</td>\n",
       "      <td>343</td>\n",
       "    </tr>\n",
       "    <tr>\n",
       "      <th>1</th>\n",
       "      <td>analysiscommits</td>\n",
       "      <td>186</td>\n",
       "    </tr>\n",
       "    <tr>\n",
       "      <th>2</th>\n",
       "      <td>annotell-base-clients</td>\n",
       "      <td>85</td>\n",
       "    </tr>\n",
       "    <tr>\n",
       "      <th>3</th>\n",
       "      <td>agraffe</td>\n",
       "      <td>39</td>\n",
       "    </tr>\n",
       "    <tr>\n",
       "      <th>4</th>\n",
       "      <td>adafruit-blinka</td>\n",
       "      <td>1423</td>\n",
       "    </tr>\n",
       "  </tbody>\n",
       "</table>\n",
       "</div>"
      ],
      "text/plain": [
       "                 project  download_counts\n",
       "0                 angrop              343\n",
       "1        analysiscommits              186\n",
       "2  annotell-base-clients               85\n",
       "3                agraffe               39\n",
       "4        adafruit-blinka             1423"
      ]
     },
     "execution_count": 8,
     "metadata": {},
     "output_type": "execute_result"
    }
   ],
   "source": [
    "actual_query_job = client.query(query)\n",
    "packages_today = actual_query_job.to_dataframe()\n",
    "print(f\"Used {actual_query_job.total_bytes_billed} bytes\")\n",
    "packages_today.head()"
   ]
  },
  {
   "cell_type": "code",
   "execution_count": 9,
   "id": "b5245f10",
   "metadata": {
    "execution": {
     "iopub.execute_input": "2022-05-16T22:57:25.339138Z",
     "iopub.status.busy": "2022-05-16T22:57:25.338107Z",
     "iopub.status.idle": "2022-05-16T22:57:25.367746Z",
     "shell.execute_reply": "2022-05-16T22:57:25.368298Z",
     "shell.execute_reply.started": "2022-05-16T22:07:30.989696Z"
    },
    "papermill": {
     "duration": 0.081853,
     "end_time": "2022-05-16T22:57:25.368472",
     "exception": false,
     "start_time": "2022-05-16T22:57:25.286619",
     "status": "completed"
    },
    "tags": []
   },
   "outputs": [],
   "source": [
    "packages_today = packages_today.sort_values(by=\"download_counts\",ascending=False, ignore_index=True)"
   ]
  },
  {
   "cell_type": "code",
   "execution_count": 10,
   "id": "4181cf28",
   "metadata": {
    "execution": {
     "iopub.execute_input": "2022-05-16T22:57:25.466142Z",
     "iopub.status.busy": "2022-05-16T22:57:25.465179Z",
     "iopub.status.idle": "2022-05-16T22:57:26.456380Z",
     "shell.execute_reply": "2022-05-16T22:57:26.456905Z",
     "shell.execute_reply.started": "2022-05-16T22:07:31.027129Z"
    },
    "papermill": {
     "duration": 1.041326,
     "end_time": "2022-05-16T22:57:26.457188",
     "exception": false,
     "start_time": "2022-05-16T22:57:25.415862",
     "status": "completed"
    },
    "tags": []
   },
   "outputs": [
    {
     "data": {
      "text/plain": [
       "<AxesSubplot:title={'center':'Top 50 most popular packages for 2022-05-16'}, xlabel='project'>"
      ]
     },
     "execution_count": 10,
     "metadata": {},
     "output_type": "execute_result"
    },
    {
     "data": {
      "image/png": "[encoded data removed]",
      "text/plain": [
       "<Figure size 1152x1152 with 1 Axes>"
      ]
     },
     "metadata": {
      "needs_background": "light"
     },
     "output_type": "display_data"
    }
   ],
   "source": [
    "# Let's plot the top downloads of top 50 packages\n",
    "from datetime import date\n",
    "packages_today.head(50).plot.bar(x=\"project\", figsize=(16,16), title=f\"Top 50 most popular packages for {date.today()}\")"
   ]
  },
  {
   "cell_type": "markdown",
   "id": "633de94e",
   "metadata": {
    "papermill": {
     "duration": 0.048951,
     "end_time": "2022-05-16T22:57:26.555700",
     "exception": false,
     "start_time": "2022-05-16T22:57:26.506749",
     "status": "completed"
    },
    "tags": []
   },
   "source": [
    "# Package Case Study (numpy).\n",
    "\n",
    "Now that we know how to exectue a basic query against the PyPI dataset we can now perform an in-depth analysis on one of the packages.\n",
    "\n",
    "For this case study, I will be choosing numpy from amongst the top 50 most downloaded packages today. We will be looking at trends for the past month.\n",
    "\n",
    "Here are some questions we can potentially answer with this dataset(I'm only exploring a subset):\n",
    "1. What was the most downloaded file(e.g. wheel, sdist) for that package?\n",
    "   a. If wheels are provided, which wheels are being downloaded the most?\n",
    "      b. If wheels are provided and a user chooses to install a sdist, why? \n",
    "      (Look into platforms people installing sdists on and see if some people are forced to install sdist due to being on an unsupported platform)\n",
    "2. What platforms(Linux, macOS, Windows)/Python versions are there the most downloads for? \n",
    "3. What times do people most frequently download Python packages on a given day? How do holidays affect download frequencies?\n",
    "4. Who(on which platforms/python versions) and how many people install pre-releases?\n",
    "5. How long does it take for a new version of a package to be adopted(become the most freuqently downloaded version)?\n",
    "\n",
    "\n",
    "Answering these questions can provide insight not just to curious users, but also to maintainers on questions such as \"When should I drop support for a specific Python version?\", \"Is it worth it to provide support for a new kind of wheel?\", \"When should I release a package?\", etc. "
   ]
  },
  {
   "cell_type": "code",
   "execution_count": 11,
   "id": "ca4293b5",
   "metadata": {
    "execution": {
     "iopub.execute_input": "2022-05-16T22:57:26.662795Z",
     "iopub.status.busy": "2022-05-16T22:57:26.660233Z",
     "iopub.status.idle": "2022-05-16T22:57:28.913418Z",
     "shell.execute_reply": "2022-05-16T22:57:28.912783Z",
     "shell.execute_reply.started": "2022-05-16T22:52:04.478828Z"
    },
    "papermill": {
     "duration": 2.308527,
     "end_time": "2022-05-16T22:57:28.913615",
     "exception": false,
     "start_time": "2022-05-16T22:57:26.605088",
     "status": "completed"
    },
    "tags": []
   },
   "outputs": [
    {
     "name": "stdout",
     "output_type": "stream",
     "text": [
      "The formatted query is: \n",
      "\n",
      "        -- Sometimes we can't figure out the version, platform tags, etc. from the filename.\n",
      "        -- This happens when we don't have a wheel or sdist(any file that doesn't end in .tar.gz, .zip, or .whl)\n",
      "        -- We need to pull info from the table manually in that case.\n",
      "        SELECT \n",
      "            CASE\n",
      "                WHEN REGEXP_CONTAINS (file.filename, r'^.*\\.(tar.gz|zip|whl)') \n",
      "                THEN file.filename \n",
      "                ELSE CONCAT(file.filename, ' ', file.version, ' ', file.type)\n",
      "            END\n",
      "                AS file\n",
      "            \n",
      "            \n",
      "        FROM `bigquery-public-data.pypi.file_downloads`\n",
      "        WHERE project = 'numpy'\n",
      "        AND DATE(timestamp)\n",
      "            BETWEEN DATE_SUB(CURRENT_DATE(), INTERVAL 1 DAY)\n",
      "            AND CURRENT_DATE()\n",
      "        \n",
      "76991093316\n"
     ]
    }
   ],
   "source": [
    "query = \"\"\"\n",
    "        -- Sometimes we can't figure out the version, platform tags, etc. from the filename.\n",
    "        -- This happens when we don't have a wheel or sdist(any file that doesn't end in .tar.gz, .zip, or .whl)\n",
    "        -- We need to pull info from the table manually in that case.\n",
    "        SELECT \n",
    "            CASE\n",
    "                WHEN REGEXP_CONTAINS (file.filename, r'^.*\\.(tar.gz|zip|whl)') \n",
    "                THEN file.filename \n",
    "                ELSE CONCAT(file.filename, ' ', file.version, ' ', file.type)\n",
    "            END\n",
    "                AS file\n",
    "            \n",
    "            \n",
    "        FROM `bigquery-public-data.pypi.file_downloads`\n",
    "        WHERE project = '{projectname}'\n",
    "        AND DATE(timestamp)\n",
    "            BETWEEN DATE_SUB(CURRENT_DATE(), INTERVAL 1 DAY)\n",
    "            AND CURRENT_DATE()\n",
    "        \"\"\"\n",
    "projectname = \"numpy\"\n",
    "query = query.format(projectname=projectname)\n",
    "print(\"The formatted query is: \\n\" + query)\n",
    "\n",
    "# Dry runs are way off for this dataset for some reason\n",
    "# I ran these queries and the usage reported by the console\n",
    "# is way lower ~ 1GB not 60GB ...\n",
    "test_query_job = client.query(query, job_config=job_config) # Dry run\n",
    "print(test_query_job.total_bytes_processed)"
   ]
  },
  {
   "cell_type": "markdown",
   "id": "5927fde1",
   "metadata": {
    "papermill": {
     "duration": 0.049433,
     "end_time": "2022-05-16T22:57:29.013276",
     "exception": false,
     "start_time": "2022-05-16T22:57:28.963843",
     "status": "completed"
    },
    "tags": []
   },
   "source": [
    "For this example, we will only be extracting the filename(when it is a wheel or sdist). \n",
    "This is because the filename of uploaded files to a file generally contains information about platforms/Python versions it can be installed on.\n",
    "\n",
    "Read more about this here : https://packaging.python.org/en/latest/specifications/binary-distribution-format/#file-format( for wheels) and\n",
    "https://packaging.python.org/en/latest/specifications/source-distribution-format/#source-distribution-file-format (for source distributions)\n",
    "\n",
    "Although this will require us to do a little extra post-processing of the data, it cuts down on our BigQuery usage by ~ 1/3.\n",
    "\n",
    "We will use the packaging package(comes with pip) to help use do this."
   ]
  },
  {
   "cell_type": "code",
   "execution_count": 12,
   "id": "fef0cb2d",
   "metadata": {
    "execution": {
     "iopub.execute_input": "2022-05-16T22:57:29.114264Z",
     "iopub.status.busy": "2022-05-16T22:57:29.113642Z",
     "iopub.status.idle": "2022-05-16T22:57:29.130098Z",
     "shell.execute_reply": "2022-05-16T22:57:29.129558Z",
     "shell.execute_reply.started": "2022-05-16T22:19:27.470329Z"
    },
    "papermill": {
     "duration": 0.067788,
     "end_time": "2022-05-16T22:57:29.130247",
     "exception": false,
     "start_time": "2022-05-16T22:57:29.062459",
     "status": "completed"
    },
    "tags": []
   },
   "outputs": [],
   "source": [
    "from packaging.utils import parse_wheel_filename, parse_sdist_filename, InvalidWheelFilename, InvalidSdistFilename, Version\n",
    "\n",
    "def parse_filename(file):\n",
    "    name, version, build, tags, ftype = None, None, None, None, None\n",
    "    try:\n",
    "        name, version, build, tags = parse_wheel_filename(file)\n",
    "        ftype = \"wheel\"\n",
    "    except InvalidWheelFilename:\n",
    "        try:\n",
    "            # No build number or tags on sdist on sdists\n",
    "            name, version = parse_sdist_filename(file)\n",
    "            ftype = \"sdist\"\n",
    "        except InvalidSdistFilename:\n",
    "            # Some weird people like to download old packages for EOL Pythons I guess...\n",
    "            # We just need to extract info we pulled from the GBQ table here\n",
    "            name, version, ftype = file.split(\" \")\n",
    "            version = Version(version)\n",
    "            \n",
    "            \n",
    "    return pd.Series([name, version, build, tags, ftype])\n",
    "\n",
    "def get_tags(tags):\n",
    "    interpreters = set()\n",
    "    abis = set()\n",
    "    platforms = set()\n",
    "    if tags is not None:\n",
    "        for tag in list(tags):\n",
    "            interpreters.add(tag.interpreter)\n",
    "            abis.add(tag.abi)\n",
    "            platforms.add(tag.platform)\n",
    "    \n",
    "    interpreters = frozenset(interpreters)\n",
    "    abis = frozenset(abis)\n",
    "    platforms = frozenset(platforms)\n",
    "        \n",
    "    return pd.Series([interpreters, abis, platforms])"
   ]
  },
  {
   "cell_type": "code",
   "execution_count": 13,
   "id": "787e487c",
   "metadata": {
    "execution": {
     "iopub.execute_input": "2022-05-16T22:57:29.238480Z",
     "iopub.status.busy": "2022-05-16T22:57:29.237860Z",
     "iopub.status.idle": "2022-05-16T22:59:41.666761Z",
     "shell.execute_reply": "2022-05-16T22:59:41.665311Z",
     "shell.execute_reply.started": "2022-05-16T22:19:40.212934Z"
    },
    "papermill": {
     "duration": 132.487215,
     "end_time": "2022-05-16T22:59:41.666990",
     "exception": false,
     "start_time": "2022-05-16T22:57:29.179775",
     "status": "completed"
    },
    "tags": []
   },
   "outputs": [
    {
     "name": "stderr",
     "output_type": "stream",
     "text": [
      "/opt/conda/lib/python3.7/site-packages/google/cloud/bigquery/client.py:440: UserWarning: Cannot create BigQuery Storage client, the dependency google-cloud-bigquery-storage is not installed.\n",
      "  \"Cannot create BigQuery Storage client, the dependency \"\n"
     ]
    },
    {
     "name": "stdout",
     "output_type": "stream",
     "text": [
      "Used 728033934 bytes\n"
     ]
    }
   ],
   "source": [
    "# Actually run the query\n",
    "actual_query_job = client.query(query)\n",
    "project_stats = actual_query_job.to_dataframe()\n",
    "print(f\"Used {actual_query_job.total_bytes_processed} bytes\")\n",
    "\n",
    "# Get value counts\n",
    "project_stats = project_stats.value_counts().to_frame().reset_index()\n",
    "project_stats = project_stats.rename({0: \"download_count\"}, axis=\"columns\")\n",
    "\n",
    "# Parse filenames\n",
    "project_stats[[\"name\", \"version\", \"build_number\", \"tags\", \"ftype\"]] = project_stats[\"file\"].apply(parse_filename)\n",
    "# Expand tags column, each tag is composed of (python tag, abi tag, platform tag)\n",
    "# This triplet tells us which platform(Windows, macOS, linux x86_64, etc.), and Python version/type a wheel can be installed for\n",
    "project_stats[[\"pytag\", \"abitag\", \"platformtag\"]] = project_stats[\"tags\"].apply(get_tags)\n",
    "project_stats = project_stats.drop(\"tags\", axis=1)"
   ]
  },
  {
   "cell_type": "code",
   "execution_count": 14,
   "id": "af52ec1b",
   "metadata": {
    "execution": {
     "iopub.execute_input": "2022-05-16T22:59:41.783835Z",
     "iopub.status.busy": "2022-05-16T22:59:41.783053Z",
     "iopub.status.idle": "2022-05-16T22:59:41.817279Z",
     "shell.execute_reply": "2022-05-16T22:59:41.817766Z",
     "shell.execute_reply.started": "2022-05-16T22:25:25.197279Z"
    },
    "papermill": {
     "duration": 0.09326,
     "end_time": "2022-05-16T22:59:41.818075",
     "exception": false,
     "start_time": "2022-05-16T22:59:41.724815",
     "status": "completed"
    },
    "tags": []
   },
   "outputs": [
    {
     "data": {
      "text/html": [
       "<div>\n",
       "<style scoped>\n",
       "    .dataframe tbody tr th:only-of-type {\n",
       "        vertical-align: middle;\n",
       "    }\n",
       "\n",
       "    .dataframe tbody tr th {\n",
       "        vertical-align: top;\n",
       "    }\n",
       "\n",
       "    .dataframe thead th {\n",
       "        text-align: right;\n",
       "    }\n",
       "</style>\n",
       "<table border=\"1\" class=\"dataframe\">\n",
       "  <thead>\n",
       "    <tr style=\"text-align: right;\">\n",
       "      <th></th>\n",
       "      <th>file</th>\n",
       "      <th>download_count</th>\n",
       "      <th>name</th>\n",
       "      <th>version</th>\n",
       "      <th>build_number</th>\n",
       "      <th>ftype</th>\n",
       "      <th>pytag</th>\n",
       "      <th>abitag</th>\n",
       "      <th>platformtag</th>\n",
       "    </tr>\n",
       "  </thead>\n",
       "  <tbody>\n",
       "    <tr>\n",
       "      <th>0</th>\n",
       "      <td>numpy-1.21.6-cp37-cp37m-manylinux_2_12_x86_64....</td>\n",
       "      <td>1343393</td>\n",
       "      <td>numpy</td>\n",
       "      <td>1.21.6</td>\n",
       "      <td>()</td>\n",
       "      <td>wheel</td>\n",
       "      <td>(cp37)</td>\n",
       "      <td>(cp37m)</td>\n",
       "      <td>(manylinux_2_12_x86_64, manylinux2010_x86_64)</td>\n",
       "    </tr>\n",
       "    <tr>\n",
       "      <th>1</th>\n",
       "      <td>numpy-1.22.3-cp38-cp38-manylinux_2_17_x86_64.m...</td>\n",
       "      <td>604916</td>\n",
       "      <td>numpy</td>\n",
       "      <td>1.22.3</td>\n",
       "      <td>()</td>\n",
       "      <td>wheel</td>\n",
       "      <td>(cp38)</td>\n",
       "      <td>(cp38)</td>\n",
       "      <td>(manylinux_2_17_x86_64, manylinux2014_x86_64)</td>\n",
       "    </tr>\n",
       "    <tr>\n",
       "      <th>2</th>\n",
       "      <td>numpy-1.19.5-cp36-cp36m-manylinux2010_x86_64.whl</td>\n",
       "      <td>602944</td>\n",
       "      <td>numpy</td>\n",
       "      <td>1.19.5</td>\n",
       "      <td>()</td>\n",
       "      <td>wheel</td>\n",
       "      <td>(cp36)</td>\n",
       "      <td>(cp36m)</td>\n",
       "      <td>(manylinux2010_x86_64)</td>\n",
       "    </tr>\n",
       "    <tr>\n",
       "      <th>3</th>\n",
       "      <td>numpy-1.22.3-cp39-cp39-manylinux_2_17_x86_64.m...</td>\n",
       "      <td>377124</td>\n",
       "      <td>numpy</td>\n",
       "      <td>1.22.3</td>\n",
       "      <td>()</td>\n",
       "      <td>wheel</td>\n",
       "      <td>(cp39)</td>\n",
       "      <td>(cp39)</td>\n",
       "      <td>(manylinux_2_17_x86_64, manylinux2014_x86_64)</td>\n",
       "    </tr>\n",
       "    <tr>\n",
       "      <th>4</th>\n",
       "      <td>numpy-1.18.5-cp35-cp35m-manylinux1_x86_64.whl</td>\n",
       "      <td>217057</td>\n",
       "      <td>numpy</td>\n",
       "      <td>1.18.5</td>\n",
       "      <td>()</td>\n",
       "      <td>wheel</td>\n",
       "      <td>(cp35)</td>\n",
       "      <td>(cp35m)</td>\n",
       "      <td>(manylinux1_x86_64)</td>\n",
       "    </tr>\n",
       "    <tr>\n",
       "      <th>...</th>\n",
       "      <td>...</td>\n",
       "      <td>...</td>\n",
       "      <td>...</td>\n",
       "      <td>...</td>\n",
       "      <td>...</td>\n",
       "      <td>...</td>\n",
       "      <td>...</td>\n",
       "      <td>...</td>\n",
       "      <td>...</td>\n",
       "    </tr>\n",
       "    <tr>\n",
       "      <th>1656</th>\n",
       "      <td>numpy-1.13.1-cp34-none-win_amd64.whl</td>\n",
       "      <td>1</td>\n",
       "      <td>numpy</td>\n",
       "      <td>1.13.1</td>\n",
       "      <td>()</td>\n",
       "      <td>wheel</td>\n",
       "      <td>(cp34)</td>\n",
       "      <td>(none)</td>\n",
       "      <td>(win_amd64)</td>\n",
       "    </tr>\n",
       "    <tr>\n",
       "      <th>1657</th>\n",
       "      <td>numpy-1.14.5-cp27-cp27mu-manylinux1_i686.whl</td>\n",
       "      <td>1</td>\n",
       "      <td>numpy</td>\n",
       "      <td>1.14.5</td>\n",
       "      <td>()</td>\n",
       "      <td>wheel</td>\n",
       "      <td>(cp27)</td>\n",
       "      <td>(cp27mu)</td>\n",
       "      <td>(manylinux1_i686)</td>\n",
       "    </tr>\n",
       "    <tr>\n",
       "      <th>1658</th>\n",
       "      <td>numpy-1.13.1-cp35-cp35m-manylinux1_i686.whl</td>\n",
       "      <td>1</td>\n",
       "      <td>numpy</td>\n",
       "      <td>1.13.1</td>\n",
       "      <td>()</td>\n",
       "      <td>wheel</td>\n",
       "      <td>(cp35)</td>\n",
       "      <td>(cp35m)</td>\n",
       "      <td>(manylinux1_i686)</td>\n",
       "    </tr>\n",
       "    <tr>\n",
       "      <th>1659</th>\n",
       "      <td>numpy-1.16.0rc1-cp35-cp35m-macosx_10_6_intel.m...</td>\n",
       "      <td>1</td>\n",
       "      <td>numpy</td>\n",
       "      <td>1.16.0rc1</td>\n",
       "      <td>()</td>\n",
       "      <td>wheel</td>\n",
       "      <td>(cp35)</td>\n",
       "      <td>(cp35m)</td>\n",
       "      <td>(macosx_10_10_intel, macosx_10_9_x86_64, macos...</td>\n",
       "    </tr>\n",
       "    <tr>\n",
       "      <th>1660</th>\n",
       "      <td>numpy-1.14.0rc1-cp36-none-win32.whl</td>\n",
       "      <td>1</td>\n",
       "      <td>numpy</td>\n",
       "      <td>1.14.0rc1</td>\n",
       "      <td>()</td>\n",
       "      <td>wheel</td>\n",
       "      <td>(cp36)</td>\n",
       "      <td>(none)</td>\n",
       "      <td>(win32)</td>\n",
       "    </tr>\n",
       "  </tbody>\n",
       "</table>\n",
       "<p>1661 rows × 9 columns</p>\n",
       "</div>"
      ],
      "text/plain": [
       "                                                   file  download_count  \\\n",
       "0     numpy-1.21.6-cp37-cp37m-manylinux_2_12_x86_64....         1343393   \n",
       "1     numpy-1.22.3-cp38-cp38-manylinux_2_17_x86_64.m...          604916   \n",
       "2      numpy-1.19.5-cp36-cp36m-manylinux2010_x86_64.whl          602944   \n",
       "3     numpy-1.22.3-cp39-cp39-manylinux_2_17_x86_64.m...          377124   \n",
       "4         numpy-1.18.5-cp35-cp35m-manylinux1_x86_64.whl          217057   \n",
       "...                                                 ...             ...   \n",
       "1656               numpy-1.13.1-cp34-none-win_amd64.whl               1   \n",
       "1657       numpy-1.14.5-cp27-cp27mu-manylinux1_i686.whl               1   \n",
       "1658        numpy-1.13.1-cp35-cp35m-manylinux1_i686.whl               1   \n",
       "1659  numpy-1.16.0rc1-cp35-cp35m-macosx_10_6_intel.m...               1   \n",
       "1660                numpy-1.14.0rc1-cp36-none-win32.whl               1   \n",
       "\n",
       "       name    version build_number  ftype   pytag    abitag  \\\n",
       "0     numpy     1.21.6           ()  wheel  (cp37)   (cp37m)   \n",
       "1     numpy     1.22.3           ()  wheel  (cp38)    (cp38)   \n",
       "2     numpy     1.19.5           ()  wheel  (cp36)   (cp36m)   \n",
       "3     numpy     1.22.3           ()  wheel  (cp39)    (cp39)   \n",
       "4     numpy     1.18.5           ()  wheel  (cp35)   (cp35m)   \n",
       "...     ...        ...          ...    ...     ...       ...   \n",
       "1656  numpy     1.13.1           ()  wheel  (cp34)    (none)   \n",
       "1657  numpy     1.14.5           ()  wheel  (cp27)  (cp27mu)   \n",
       "1658  numpy     1.13.1           ()  wheel  (cp35)   (cp35m)   \n",
       "1659  numpy  1.16.0rc1           ()  wheel  (cp35)   (cp35m)   \n",
       "1660  numpy  1.14.0rc1           ()  wheel  (cp36)    (none)   \n",
       "\n",
       "                                            platformtag  \n",
       "0         (manylinux_2_12_x86_64, manylinux2010_x86_64)  \n",
       "1         (manylinux_2_17_x86_64, manylinux2014_x86_64)  \n",
       "2                                (manylinux2010_x86_64)  \n",
       "3         (manylinux_2_17_x86_64, manylinux2014_x86_64)  \n",
       "4                                   (manylinux1_x86_64)  \n",
       "...                                                 ...  \n",
       "1656                                        (win_amd64)  \n",
       "1657                                  (manylinux1_i686)  \n",
       "1658                                  (manylinux1_i686)  \n",
       "1659  (macosx_10_10_intel, macosx_10_9_x86_64, macos...  \n",
       "1660                                            (win32)  \n",
       "\n",
       "[1661 rows x 9 columns]"
      ]
     },
     "execution_count": 14,
     "metadata": {},
     "output_type": "execute_result"
    }
   ],
   "source": [
    "project_stats"
   ]
  },
  {
   "cell_type": "markdown",
   "id": "e8dc6e43",
   "metadata": {
    "papermill": {
     "duration": 0.052072,
     "end_time": "2022-05-16T22:59:41.924269",
     "exception": false,
     "start_time": "2022-05-16T22:59:41.872197",
     "status": "completed"
    },
    "tags": []
   },
   "source": [
    "Answering Question 1:\n",
    "\n",
    "What was the most downloaded file(e.g. wheel, sdist) for that package?\n",
    "\n",
    "   a. If wheels are provided, which wheels are being downloaded the most?\n",
    "\n",
    "   b. If wheels are provided and a user chooses to install a sdist, why? \n",
    "      (Look into platforms people installing sdists on and see if some people are forced to install sdist due to being on an unsupported platform)"
   ]
  },
  {
   "cell_type": "code",
   "execution_count": 15,
   "id": "f95e5fde",
   "metadata": {
    "execution": {
     "iopub.execute_input": "2022-05-16T22:59:42.035650Z",
     "iopub.status.busy": "2022-05-16T22:59:42.034376Z",
     "iopub.status.idle": "2022-05-16T22:59:42.204923Z",
     "shell.execute_reply": "2022-05-16T22:59:42.203901Z",
     "shell.execute_reply.started": "2022-05-16T22:25:28.132722Z"
    },
    "papermill": {
     "duration": 0.227916,
     "end_time": "2022-05-16T22:59:42.205193",
     "exception": false,
     "start_time": "2022-05-16T22:59:41.977277",
     "status": "completed"
    },
    "tags": []
   },
   "outputs": [
    {
     "data": {
      "text/plain": [
       "<AxesSubplot:>"
      ]
     },
     "execution_count": 15,
     "metadata": {},
     "output_type": "execute_result"
    },
    {
     "data": {
      "image/png": "[encoded data removed]",
      "text/plain": [
       "<Figure size 576x576 with 1 Axes>"
      ]
     },
     "metadata": {},
     "output_type": "display_data"
    }
   ],
   "source": [
    "# Wheel vs sdist download percentage\n",
    "grouped_stats = project_stats.groupby(\"ftype\")\n",
    "grouped_stats[\"download_count\"].sum().plot.pie(autopct=\"%1.1f%%\", figsize=(8,8), label=\"\")"
   ]
  },
  {
   "cell_type": "markdown",
   "id": "a3b7a59d",
   "metadata": {
    "papermill": {
     "duration": 0.056071,
     "end_time": "2022-05-16T22:59:42.341385",
     "exception": false,
     "start_time": "2022-05-16T22:59:42.285314",
     "status": "completed"
    },
    "tags": []
   },
   "source": [
    "Pretty good! Looks like most users are seeing the compile time savings from wheels for the numpy project.\n",
    "\n",
    "Now let's see which platforms have installed the most wheels."
   ]
  },
  {
   "cell_type": "code",
   "execution_count": 16,
   "id": "2fe0372f",
   "metadata": {
    "execution": {
     "iopub.execute_input": "2022-05-16T22:59:42.458406Z",
     "iopub.status.busy": "2022-05-16T22:59:42.457731Z",
     "iopub.status.idle": "2022-05-16T22:59:42.469618Z",
     "shell.execute_reply": "2022-05-16T22:59:42.468931Z",
     "shell.execute_reply.started": "2022-05-16T22:25:30.796997Z"
    },
    "papermill": {
     "duration": 0.069582,
     "end_time": "2022-05-16T22:59:42.469771",
     "exception": false,
     "start_time": "2022-05-16T22:59:42.400189",
     "status": "completed"
    },
    "tags": []
   },
   "outputs": [],
   "source": [
    "# Most popular platform for wheels\n",
    "wheels_info = grouped_stats.get_group(\"wheel\")\n",
    "plat_download_counts = wheels_info.groupby(\"platformtag\")[\"download_count\"].sum()\n",
    "plat_download_counts = plat_download_counts / plat_download_counts.sum()\n",
    "plat_download_counts = plat_download_counts.sort_values(ascending=False)"
   ]
  },
  {
   "cell_type": "code",
   "execution_count": 17,
   "id": "2cec9485",
   "metadata": {
    "execution": {
     "iopub.execute_input": "2022-05-16T22:59:42.598632Z",
     "iopub.status.busy": "2022-05-16T22:59:42.587972Z",
     "iopub.status.idle": "2022-05-16T22:59:43.018336Z",
     "shell.execute_reply": "2022-05-16T22:59:43.017762Z",
     "shell.execute_reply.started": "2022-05-16T22:25:32.375389Z"
    },
    "papermill": {
     "duration": 0.491561,
     "end_time": "2022-05-16T22:59:43.018494",
     "exception": false,
     "start_time": "2022-05-16T22:59:42.526933",
     "status": "completed"
    },
    "tags": []
   },
   "outputs": [
    {
     "data": {
      "text/plain": [
       "<AxesSubplot:ylabel='platformtag'>"
      ]
     },
     "execution_count": 17,
     "metadata": {},
     "output_type": "execute_result"
    },
    {
     "data": {
      "image/png": "[encoded data removed]",
      "text/plain": [
       "<Figure size 576x576 with 1 Axes>"
      ]
     },
     "metadata": {
      "needs_background": "light"
     },
     "output_type": "display_data"
    }
   ],
   "source": [
    "plat_download_counts.plot.barh(figsize=(8,8))"
   ]
  },
  {
   "cell_type": "markdown",
   "id": "7fe32b03",
   "metadata": {
    "papermill": {
     "duration": 0.057563,
     "end_time": "2022-05-16T22:59:43.134677",
     "exception": false,
     "start_time": "2022-05-16T22:59:43.077114",
     "status": "completed"
    },
    "tags": []
   },
   "source": [
    "While this does shed some light on the most popular platforms that wheels are downloaded on\n",
    "(It appears Linux > Windows > MacOS), we can do better.\n",
    "\n",
    "Lets narrow in on one release and look at the plot download percentages for the wheel corresponding\n",
    "to each platform."
   ]
  },
  {
   "cell_type": "code",
   "execution_count": 18,
   "id": "a712c936",
   "metadata": {
    "execution": {
     "iopub.execute_input": "2022-05-16T22:59:43.259445Z",
     "iopub.status.busy": "2022-05-16T22:59:43.258602Z",
     "iopub.status.idle": "2022-05-16T22:59:43.260178Z",
     "shell.execute_reply": "2022-05-16T22:59:43.260759Z",
     "shell.execute_reply.started": "2022-05-16T22:25:35.049726Z"
    },
    "papermill": {
     "duration": 0.068792,
     "end_time": "2022-05-16T22:59:43.260944",
     "exception": false,
     "start_time": "2022-05-16T22:59:43.192152",
     "status": "completed"
    },
    "tags": []
   },
   "outputs": [],
   "source": [
    "from packaging.version import Version\n",
    "release = Version(\"1.22.3\")\n",
    "rel_plat_download_info = wheels_info[wheels_info[\"version\"] == release].groupby(\"platformtag\")[\"download_count\"].sum()\n",
    "rel_plat_download_info = rel_plat_download_info / rel_plat_download_info.sum()\n",
    "rel_plat_download_info = rel_plat_download_info.sort_values(ascending=False)"
   ]
  },
  {
   "cell_type": "code",
   "execution_count": 19,
   "id": "69a1c9cf",
   "metadata": {
    "execution": {
     "iopub.execute_input": "2022-05-16T22:59:43.413504Z",
     "iopub.status.busy": "2022-05-16T22:59:43.402740Z",
     "iopub.status.idle": "2022-05-16T22:59:43.610414Z",
     "shell.execute_reply": "2022-05-16T22:59:43.610917Z",
     "shell.execute_reply.started": "2022-05-16T22:25:36.832693Z"
    },
    "papermill": {
     "duration": 0.294355,
     "end_time": "2022-05-16T22:59:43.611115",
     "exception": false,
     "start_time": "2022-05-16T22:59:43.316760",
     "status": "completed"
    },
    "tags": []
   },
   "outputs": [
    {
     "data": {
      "text/plain": [
       "<AxesSubplot:ylabel='platformtag'>"
      ]
     },
     "execution_count": 19,
     "metadata": {},
     "output_type": "execute_result"
    },
    {
     "data": {
      "image/png": "[encoded data removed]",
      "text/plain": [
       "<Figure size 576x576 with 1 Axes>"
      ]
     },
     "metadata": {
      "needs_background": "light"
     },
     "output_type": "display_data"
    }
   ],
   "source": [
    "rel_plat_download_info.plot.barh(figsize=(8,8))"
   ]
  },
  {
   "cell_type": "code",
   "execution_count": 20,
   "id": "f1867c90",
   "metadata": {
    "execution": {
     "iopub.execute_input": "2022-05-16T22:59:43.730306Z",
     "iopub.status.busy": "2022-05-16T22:59:43.729508Z",
     "iopub.status.idle": "2022-05-16T22:59:43.962988Z",
     "shell.execute_reply": "2022-05-16T22:59:43.963949Z",
     "shell.execute_reply.started": "2022-05-16T22:25:39.882991Z"
    },
    "papermill": {
     "duration": 0.296261,
     "end_time": "2022-05-16T22:59:43.964251",
     "exception": false,
     "start_time": "2022-05-16T22:59:43.667990",
     "status": "completed"
    },
    "tags": []
   },
   "outputs": [
    {
     "data": {
      "text/plain": [
       "<AxesSubplot:>"
      ]
     },
     "execution_count": 20,
     "metadata": {},
     "output_type": "execute_result"
    },
    {
     "data": {
      "image/png": "[encoded data removed]",
      "text/plain": [
       "<Figure size 576x576 with 1 Axes>"
      ]
     },
     "metadata": {},
     "output_type": "display_data"
    }
   ],
   "source": [
    "rel_plat_download_info.plot.pie(autopct=\"%1.1f%%\", figsize=(8,8), label=\"\")"
   ]
  },
  {
   "cell_type": "markdown",
   "id": "76d2fe9c",
   "metadata": {
    "papermill": {
     "duration": 0.060648,
     "end_time": "2022-05-16T22:59:44.084640",
     "exception": false,
     "start_time": "2022-05-16T22:59:44.023992",
     "status": "completed"
    },
    "tags": []
   },
   "source": [
    "From this we can see Linux x86_64 in the lead, with Windows and MacOS x86_64 trailing it. \n",
    "We also see barely used platforms like win32, whose wheels can probably be dropped.\n",
    "\n",
    "Now, let's look at the distribution of downloaded versions. "
   ]
  },
  {
   "cell_type": "code",
   "execution_count": 21,
   "id": "9d2abfac",
   "metadata": {
    "execution": {
     "iopub.execute_input": "2022-05-16T22:59:44.208808Z",
     "iopub.status.busy": "2022-05-16T22:59:44.208056Z",
     "iopub.status.idle": "2022-05-16T22:59:44.222473Z",
     "shell.execute_reply": "2022-05-16T22:59:44.223019Z",
     "shell.execute_reply.started": "2022-05-16T22:25:43.44967Z"
    },
    "papermill": {
     "duration": 0.078098,
     "end_time": "2022-05-16T22:59:44.223226",
     "exception": false,
     "start_time": "2022-05-16T22:59:44.145128",
     "status": "completed"
    },
    "tags": []
   },
   "outputs": [],
   "source": [
    "grouped_version_stats = project_stats.groupby('version')\n",
    "summed_version_stats = grouped_version_stats[\"download_count\"].sum().sort_values(ascending=False)"
   ]
  },
  {
   "cell_type": "code",
   "execution_count": 22,
   "id": "8aec5420",
   "metadata": {
    "execution": {
     "iopub.execute_input": "2022-05-16T22:59:44.371886Z",
     "iopub.status.busy": "2022-05-16T22:59:44.362142Z",
     "iopub.status.idle": "2022-05-16T22:59:44.574959Z",
     "shell.execute_reply": "2022-05-16T22:59:44.575894Z",
     "shell.execute_reply.started": "2022-05-16T22:25:45.444529Z"
    },
    "papermill": {
     "duration": 0.293261,
     "end_time": "2022-05-16T22:59:44.576184",
     "exception": false,
     "start_time": "2022-05-16T22:59:44.282923",
     "status": "completed"
    },
    "tags": []
   },
   "outputs": [
    {
     "data": {
      "text/plain": [
       "<AxesSubplot:>"
      ]
     },
     "execution_count": 22,
     "metadata": {},
     "output_type": "execute_result"
    },
    {
     "data": {
      "image/png": "[encoded data removed]",
      "text/plain": [
       "<Figure size 576x576 with 1 Axes>"
      ]
     },
     "metadata": {},
     "output_type": "display_data"
    }
   ],
   "source": [
    "top10_versions = summed_version_stats.head(10)\n",
    "top10_versions[\"other\"] = summed_version_stats.iloc[10:].sum()\n",
    "top10_versions.plot.pie(autopct=\"%1.1f%%\", figsize=(8,8), label=\"\")"
   ]
  },
  {
   "cell_type": "markdown",
   "id": "11d884e9",
   "metadata": {
    "papermill": {
     "duration": 0.05987,
     "end_time": "2022-05-16T22:59:44.710823",
     "exception": false,
     "start_time": "2022-05-16T22:59:44.650953",
     "status": "completed"
    },
    "tags": []
   },
   "source": [
    "Here, we see most people are not installing the latest version, indicating that people (or the dependencies they are using) are most likely pinning numpy. \n",
    "\n",
    "Now let's see how many people download the rc versions of numpy compared to actual releases."
   ]
  },
  {
   "cell_type": "code",
   "execution_count": 23,
   "id": "842fd724",
   "metadata": {
    "execution": {
     "iopub.execute_input": "2022-05-16T22:59:44.849807Z",
     "iopub.status.busy": "2022-05-16T22:59:44.848921Z",
     "iopub.status.idle": "2022-05-16T22:59:44.852233Z",
     "shell.execute_reply": "2022-05-16T22:59:44.852735Z",
     "shell.execute_reply.started": "2022-05-16T22:41:58.501709Z"
    },
    "papermill": {
     "duration": 0.080342,
     "end_time": "2022-05-16T22:59:44.852905",
     "exception": false,
     "start_time": "2022-05-16T22:59:44.772563",
     "status": "completed"
    },
    "tags": []
   },
   "outputs": [
    {
     "name": "stdout",
     "output_type": "stream",
     "text": [
      "19 users out of 101 installed a prerelease version today.\n"
     ]
    }
   ],
   "source": [
    "analysis_version = \"1.22\"\n",
    "latest_ver_data = project_stats[project_stats[\"version\"].apply(lambda x: analysis_version in x.base_version)]\n",
    "prerelease_count = len(latest_ver_data[latest_ver_data[\"version\"].apply(lambda x: x.is_prerelease)])\n",
    "print(f\"{prerelease_count} users out of {len(latest_ver_data)} installed a prerelease version today.\")"
   ]
  },
  {
   "cell_type": "code",
   "execution_count": 24,
   "id": "1025d714",
   "metadata": {
    "execution": {
     "iopub.execute_input": "2022-05-16T22:59:45.006893Z",
     "iopub.status.busy": "2022-05-16T22:59:45.005887Z",
     "iopub.status.idle": "2022-05-16T22:59:45.009803Z",
     "shell.execute_reply": "2022-05-16T22:59:45.010306Z",
     "shell.execute_reply.started": "2022-05-16T22:42:12.249503Z"
    },
    "papermill": {
     "duration": 0.097071,
     "end_time": "2022-05-16T22:59:45.010481",
     "exception": false,
     "start_time": "2022-05-16T22:59:44.913410",
     "status": "completed"
    },
    "tags": []
   },
   "outputs": [
    {
     "data": {
      "text/html": [
       "<div>\n",
       "<style scoped>\n",
       "    .dataframe tbody tr th:only-of-type {\n",
       "        vertical-align: middle;\n",
       "    }\n",
       "\n",
       "    .dataframe tbody tr th {\n",
       "        vertical-align: top;\n",
       "    }\n",
       "\n",
       "    .dataframe thead th {\n",
       "        text-align: right;\n",
       "    }\n",
       "</style>\n",
       "<table border=\"1\" class=\"dataframe\">\n",
       "  <thead>\n",
       "    <tr style=\"text-align: right;\">\n",
       "      <th></th>\n",
       "      <th>file</th>\n",
       "      <th>download_count</th>\n",
       "      <th>name</th>\n",
       "      <th>version</th>\n",
       "      <th>build_number</th>\n",
       "      <th>ftype</th>\n",
       "      <th>pytag</th>\n",
       "      <th>abitag</th>\n",
       "      <th>platformtag</th>\n",
       "    </tr>\n",
       "  </thead>\n",
       "  <tbody>\n",
       "    <tr>\n",
       "      <th>1</th>\n",
       "      <td>numpy-1.22.3-cp38-cp38-manylinux_2_17_x86_64.m...</td>\n",
       "      <td>604916</td>\n",
       "      <td>numpy</td>\n",
       "      <td>1.22.3</td>\n",
       "      <td>()</td>\n",
       "      <td>wheel</td>\n",
       "      <td>(cp38)</td>\n",
       "      <td>(cp38)</td>\n",
       "      <td>(manylinux_2_17_x86_64, manylinux2014_x86_64)</td>\n",
       "    </tr>\n",
       "    <tr>\n",
       "      <th>3</th>\n",
       "      <td>numpy-1.22.3-cp39-cp39-manylinux_2_17_x86_64.m...</td>\n",
       "      <td>377124</td>\n",
       "      <td>numpy</td>\n",
       "      <td>1.22.3</td>\n",
       "      <td>()</td>\n",
       "      <td>wheel</td>\n",
       "      <td>(cp39)</td>\n",
       "      <td>(cp39)</td>\n",
       "      <td>(manylinux_2_17_x86_64, manylinux2014_x86_64)</td>\n",
       "    </tr>\n",
       "    <tr>\n",
       "      <th>15</th>\n",
       "      <td>numpy-1.22.3-cp310-cp310-manylinux_2_17_x86_64...</td>\n",
       "      <td>76528</td>\n",
       "      <td>numpy</td>\n",
       "      <td>1.22.3</td>\n",
       "      <td>()</td>\n",
       "      <td>wheel</td>\n",
       "      <td>(cp310)</td>\n",
       "      <td>(cp310)</td>\n",
       "      <td>(manylinux_2_17_x86_64, manylinux2014_x86_64)</td>\n",
       "    </tr>\n",
       "    <tr>\n",
       "      <th>25</th>\n",
       "      <td>numpy-1.22.3-cp310-cp310-win_amd64.whl</td>\n",
       "      <td>41864</td>\n",
       "      <td>numpy</td>\n",
       "      <td>1.22.3</td>\n",
       "      <td>()</td>\n",
       "      <td>wheel</td>\n",
       "      <td>(cp310)</td>\n",
       "      <td>(cp310)</td>\n",
       "      <td>(win_amd64)</td>\n",
       "    </tr>\n",
       "    <tr>\n",
       "      <th>28</th>\n",
       "      <td>numpy-1.22.3.zip</td>\n",
       "      <td>37604</td>\n",
       "      <td>numpy</td>\n",
       "      <td>1.22.3</td>\n",
       "      <td>None</td>\n",
       "      <td>sdist</td>\n",
       "      <td>()</td>\n",
       "      <td>()</td>\n",
       "      <td>()</td>\n",
       "    </tr>\n",
       "    <tr>\n",
       "      <th>...</th>\n",
       "      <td>...</td>\n",
       "      <td>...</td>\n",
       "      <td>...</td>\n",
       "      <td>...</td>\n",
       "      <td>...</td>\n",
       "      <td>...</td>\n",
       "      <td>...</td>\n",
       "      <td>...</td>\n",
       "      <td>...</td>\n",
       "    </tr>\n",
       "    <tr>\n",
       "      <th>1280</th>\n",
       "      <td>numpy-1.22.0rc1-cp39-cp39-win_amd64.whl</td>\n",
       "      <td>1</td>\n",
       "      <td>numpy</td>\n",
       "      <td>1.22.0rc1</td>\n",
       "      <td>()</td>\n",
       "      <td>wheel</td>\n",
       "      <td>(cp39)</td>\n",
       "      <td>(cp39)</td>\n",
       "      <td>(win_amd64)</td>\n",
       "    </tr>\n",
       "    <tr>\n",
       "      <th>1284</th>\n",
       "      <td>numpy-1.22.0rc1-cp38-cp38-macosx_11_0_arm64.whl</td>\n",
       "      <td>1</td>\n",
       "      <td>numpy</td>\n",
       "      <td>1.22.0rc1</td>\n",
       "      <td>()</td>\n",
       "      <td>wheel</td>\n",
       "      <td>(cp38)</td>\n",
       "      <td>(cp38)</td>\n",
       "      <td>(macosx_11_0_arm64)</td>\n",
       "    </tr>\n",
       "    <tr>\n",
       "      <th>1285</th>\n",
       "      <td>numpy-1.22.0rc1-cp310-cp310-win_amd64.whl</td>\n",
       "      <td>1</td>\n",
       "      <td>numpy</td>\n",
       "      <td>1.22.0rc1</td>\n",
       "      <td>()</td>\n",
       "      <td>wheel</td>\n",
       "      <td>(cp310)</td>\n",
       "      <td>(cp310)</td>\n",
       "      <td>(win_amd64)</td>\n",
       "    </tr>\n",
       "    <tr>\n",
       "      <th>1288</th>\n",
       "      <td>numpy-1.22.0-cp310-cp310-macosx_10_9_universal...</td>\n",
       "      <td>1</td>\n",
       "      <td>numpy</td>\n",
       "      <td>1.22.0</td>\n",
       "      <td>()</td>\n",
       "      <td>wheel</td>\n",
       "      <td>(cp310)</td>\n",
       "      <td>(cp310)</td>\n",
       "      <td>(macosx_10_9_universal2)</td>\n",
       "    </tr>\n",
       "    <tr>\n",
       "      <th>1303</th>\n",
       "      <td>numpy-1.22.0rc3-cp39-cp39-win_amd64.whl</td>\n",
       "      <td>1</td>\n",
       "      <td>numpy</td>\n",
       "      <td>1.22.0rc3</td>\n",
       "      <td>()</td>\n",
       "      <td>wheel</td>\n",
       "      <td>(cp39)</td>\n",
       "      <td>(cp39)</td>\n",
       "      <td>(win_amd64)</td>\n",
       "    </tr>\n",
       "  </tbody>\n",
       "</table>\n",
       "<p>101 rows × 9 columns</p>\n",
       "</div>"
      ],
      "text/plain": [
       "                                                   file  download_count  \\\n",
       "1     numpy-1.22.3-cp38-cp38-manylinux_2_17_x86_64.m...          604916   \n",
       "3     numpy-1.22.3-cp39-cp39-manylinux_2_17_x86_64.m...          377124   \n",
       "15    numpy-1.22.3-cp310-cp310-manylinux_2_17_x86_64...           76528   \n",
       "25               numpy-1.22.3-cp310-cp310-win_amd64.whl           41864   \n",
       "28                                     numpy-1.22.3.zip           37604   \n",
       "...                                                 ...             ...   \n",
       "1280            numpy-1.22.0rc1-cp39-cp39-win_amd64.whl               1   \n",
       "1284    numpy-1.22.0rc1-cp38-cp38-macosx_11_0_arm64.whl               1   \n",
       "1285          numpy-1.22.0rc1-cp310-cp310-win_amd64.whl               1   \n",
       "1288  numpy-1.22.0-cp310-cp310-macosx_10_9_universal...               1   \n",
       "1303            numpy-1.22.0rc3-cp39-cp39-win_amd64.whl               1   \n",
       "\n",
       "       name    version build_number  ftype    pytag   abitag  \\\n",
       "1     numpy     1.22.3           ()  wheel   (cp38)   (cp38)   \n",
       "3     numpy     1.22.3           ()  wheel   (cp39)   (cp39)   \n",
       "15    numpy     1.22.3           ()  wheel  (cp310)  (cp310)   \n",
       "25    numpy     1.22.3           ()  wheel  (cp310)  (cp310)   \n",
       "28    numpy     1.22.3         None  sdist       ()       ()   \n",
       "...     ...        ...          ...    ...      ...      ...   \n",
       "1280  numpy  1.22.0rc1           ()  wheel   (cp39)   (cp39)   \n",
       "1284  numpy  1.22.0rc1           ()  wheel   (cp38)   (cp38)   \n",
       "1285  numpy  1.22.0rc1           ()  wheel  (cp310)  (cp310)   \n",
       "1288  numpy     1.22.0           ()  wheel  (cp310)  (cp310)   \n",
       "1303  numpy  1.22.0rc3           ()  wheel   (cp39)   (cp39)   \n",
       "\n",
       "                                        platformtag  \n",
       "1     (manylinux_2_17_x86_64, manylinux2014_x86_64)  \n",
       "3     (manylinux_2_17_x86_64, manylinux2014_x86_64)  \n",
       "15    (manylinux_2_17_x86_64, manylinux2014_x86_64)  \n",
       "25                                      (win_amd64)  \n",
       "28                                               ()  \n",
       "...                                             ...  \n",
       "1280                                    (win_amd64)  \n",
       "1284                            (macosx_11_0_arm64)  \n",
       "1285                                    (win_amd64)  \n",
       "1288                       (macosx_10_9_universal2)  \n",
       "1303                                    (win_amd64)  \n",
       "\n",
       "[101 rows x 9 columns]"
      ]
     },
     "execution_count": 24,
     "metadata": {},
     "output_type": "execute_result"
    }
   ],
   "source": [
    "latest_ver_data"
   ]
  },
  {
   "cell_type": "markdown",
   "id": "4f736bf2",
   "metadata": {
    "papermill": {
     "duration": 0.061812,
     "end_time": "2022-05-16T22:59:45.137670",
     "exception": false,
     "start_time": "2022-05-16T22:59:45.075858",
     "status": "completed"
    },
    "tags": []
   },
   "source": [
    "Now, let's see which platforms people are installing the sdists on. "
   ]
  },
  {
   "cell_type": "code",
   "execution_count": 25,
   "id": "4f0f165b",
   "metadata": {
    "execution": {
     "iopub.execute_input": "2022-05-16T22:59:45.272244Z",
     "iopub.status.busy": "2022-05-16T22:59:45.270970Z",
     "iopub.status.idle": "2022-05-16T22:59:47.529603Z",
     "shell.execute_reply": "2022-05-16T22:59:47.530118Z",
     "shell.execute_reply.started": "2022-05-16T22:52:15.898224Z"
    },
    "papermill": {
     "duration": 2.330594,
     "end_time": "2022-05-16T22:59:47.530319",
     "exception": false,
     "start_time": "2022-05-16T22:59:45.199725",
     "status": "completed"
    },
    "tags": []
   },
   "outputs": [
    {
     "name": "stdout",
     "output_type": "stream",
     "text": [
      "The formatted query is: \n",
      "\n",
      "        SELECT\n",
      "            file.version,\n",
      "            details.system.name AS systemname,\n",
      "            details.system.release AS systemversion,\n",
      "            details.distro.name AS distroname,\n",
      "            details.distro.version AS distroversion,\n",
      "            details.distro.libc AS distrolibc,\n",
      "            details.python AS python\n",
      "        FROM `bigquery-public-data.pypi.file_downloads`\n",
      "        WHERE project = '{projectname}'\n",
      "        AND DATE(timestamp)\n",
      "            BETWEEN DATE_SUB(CURRENT_DATE(), INTERVAL 1 DAY)\n",
      "            AND CURRENT_DATE()\n",
      "        AND details.system IS NOT NULL\n",
      "        AND details.distro IS NOT NULL\n",
      "        AND details.python IS NOT NULL\n",
      "        AND file.type = 'sdist'\n",
      "\n"
     ]
    },
    {
     "data": {
      "text/plain": [
       "93810038511"
      ]
     },
     "execution_count": 25,
     "metadata": {},
     "output_type": "execute_result"
    }
   ],
   "source": [
    "query = \"\"\"\n",
    "        SELECT\n",
    "            file.version,\n",
    "            details.system.name AS systemname,\n",
    "            details.system.release AS systemversion,\n",
    "            details.distro.name AS distroname,\n",
    "            details.distro.version AS distroversion,\n",
    "            details.distro.libc AS distrolibc,\n",
    "            details.python AS python\n",
    "        FROM `bigquery-public-data.pypi.file_downloads`\n",
    "        WHERE project = '{projectname}'\n",
    "        AND DATE(timestamp)\n",
    "            BETWEEN DATE_SUB(CURRENT_DATE(), INTERVAL 1 DAY)\n",
    "            AND CURRENT_DATE()\n",
    "        AND details.system IS NOT NULL\n",
    "        AND details.distro IS NOT NULL\n",
    "        AND details.python IS NOT NULL\n",
    "        AND file.type = 'sdist'\n",
    "\"\"\"\n",
    "print(\"The formatted query is: \\n\" + query)\n",
    "query = query.format(projectname=projectname)\n",
    "test_query = client.query(query, job_config=job_config) # Dry run\n",
    "test_query.total_bytes_processed"
   ]
  },
  {
   "cell_type": "code",
   "execution_count": 26,
   "id": "af345630",
   "metadata": {
    "execution": {
     "iopub.execute_input": "2022-05-16T22:59:47.669002Z",
     "iopub.status.busy": "2022-05-16T22:59:47.667843Z",
     "iopub.status.idle": "2022-05-16T22:59:59.796648Z",
     "shell.execute_reply": "2022-05-16T22:59:59.795781Z",
     "shell.execute_reply.started": "2022-05-16T22:52:17.887992Z"
    },
    "papermill": {
     "duration": 12.203504,
     "end_time": "2022-05-16T22:59:59.796821",
     "exception": false,
     "start_time": "2022-05-16T22:59:47.593317",
     "status": "completed"
    },
    "tags": []
   },
   "outputs": [
    {
     "name": "stderr",
     "output_type": "stream",
     "text": [
      "/opt/conda/lib/python3.7/site-packages/google/cloud/bigquery/client.py:440: UserWarning: Cannot create BigQuery Storage client, the dependency google-cloud-bigquery-storage is not installed.\n",
      "  \"Cannot create BigQuery Storage client, the dependency \"\n"
     ]
    }
   ],
   "source": [
    "actual_query_job = client.query(query)\n",
    "sdist_plats = actual_query_job.to_dataframe()"
   ]
  },
  {
   "cell_type": "code",
   "execution_count": 27,
   "id": "de95c651",
   "metadata": {
    "execution": {
     "iopub.execute_input": "2022-05-16T22:59:59.935010Z",
     "iopub.status.busy": "2022-05-16T22:59:59.934311Z",
     "iopub.status.idle": "2022-05-16T22:59:59.950754Z",
     "shell.execute_reply": "2022-05-16T22:59:59.950190Z",
     "shell.execute_reply.started": "2022-05-16T22:52:31.149194Z"
    },
    "papermill": {
     "duration": 0.087583,
     "end_time": "2022-05-16T22:59:59.950913",
     "exception": false,
     "start_time": "2022-05-16T22:59:59.863330",
     "status": "completed"
    },
    "tags": []
   },
   "outputs": [
    {
     "data": {
      "text/html": [
       "<div>\n",
       "<style scoped>\n",
       "    .dataframe tbody tr th:only-of-type {\n",
       "        vertical-align: middle;\n",
       "    }\n",
       "\n",
       "    .dataframe tbody tr th {\n",
       "        vertical-align: top;\n",
       "    }\n",
       "\n",
       "    .dataframe thead th {\n",
       "        text-align: right;\n",
       "    }\n",
       "</style>\n",
       "<table border=\"1\" class=\"dataframe\">\n",
       "  <thead>\n",
       "    <tr style=\"text-align: right;\">\n",
       "      <th></th>\n",
       "      <th>version</th>\n",
       "      <th>systemname</th>\n",
       "      <th>systemversion</th>\n",
       "      <th>distroname</th>\n",
       "      <th>distroversion</th>\n",
       "      <th>distrolibc</th>\n",
       "      <th>python</th>\n",
       "    </tr>\n",
       "  </thead>\n",
       "  <tbody>\n",
       "    <tr>\n",
       "      <th>0</th>\n",
       "      <td>1.22.3</td>\n",
       "      <td>Darwin</td>\n",
       "      <td>15.6.0</td>\n",
       "      <td>macOS</td>\n",
       "      <td>10.11.6</td>\n",
       "      <td>None</td>\n",
       "      <td>3.10.4</td>\n",
       "    </tr>\n",
       "    <tr>\n",
       "      <th>1</th>\n",
       "      <td>1.22.3</td>\n",
       "      <td>Darwin</td>\n",
       "      <td>17.7.0</td>\n",
       "      <td>macOS</td>\n",
       "      <td>10.13.6</td>\n",
       "      <td>None</td>\n",
       "      <td>3.8.1</td>\n",
       "    </tr>\n",
       "    <tr>\n",
       "      <th>2</th>\n",
       "      <td>1.22.3</td>\n",
       "      <td>Darwin</td>\n",
       "      <td>17.7.0</td>\n",
       "      <td>macOS</td>\n",
       "      <td>10.13.6</td>\n",
       "      <td>None</td>\n",
       "      <td>3.10.4</td>\n",
       "    </tr>\n",
       "    <tr>\n",
       "      <th>3</th>\n",
       "      <td>1.22.3</td>\n",
       "      <td>Darwin</td>\n",
       "      <td>17.7.0</td>\n",
       "      <td>macOS</td>\n",
       "      <td>10.13.6</td>\n",
       "      <td>None</td>\n",
       "      <td>3.10.4</td>\n",
       "    </tr>\n",
       "    <tr>\n",
       "      <th>4</th>\n",
       "      <td>1.17.3</td>\n",
       "      <td>Darwin</td>\n",
       "      <td>18.7.0</td>\n",
       "      <td>macOS</td>\n",
       "      <td>10.14.6</td>\n",
       "      <td>None</td>\n",
       "      <td>3.9.6</td>\n",
       "    </tr>\n",
       "    <tr>\n",
       "      <th>...</th>\n",
       "      <td>...</td>\n",
       "      <td>...</td>\n",
       "      <td>...</td>\n",
       "      <td>...</td>\n",
       "      <td>...</td>\n",
       "      <td>...</td>\n",
       "      <td>...</td>\n",
       "    </tr>\n",
       "    <tr>\n",
       "      <th>103132</th>\n",
       "      <td>1.19.3</td>\n",
       "      <td>Linux</td>\n",
       "      <td>5.10.52-lts-5.10.y+g2075623d65fb</td>\n",
       "      <td>NXP i.MX Release Distro</td>\n",
       "      <td>5.10-hardknott</td>\n",
       "      <td>{'lib': 'glibc', 'version': '2.33'}</td>\n",
       "      <td>3.9.5</td>\n",
       "    </tr>\n",
       "    <tr>\n",
       "      <th>103133</th>\n",
       "      <td>1.21.6</td>\n",
       "      <td>Linux</td>\n",
       "      <td>5.17.0-1-amd64</td>\n",
       "      <td>Debian GNU/Linux</td>\n",
       "      <td>testing</td>\n",
       "      <td>{'lib': 'glibc', 'version': '2.33'}</td>\n",
       "      <td>3.8.13</td>\n",
       "    </tr>\n",
       "    <tr>\n",
       "      <th>103134</th>\n",
       "      <td>1.22.3</td>\n",
       "      <td>Linux</td>\n",
       "      <td>4.18.0-372.el8.s390x</td>\n",
       "      <td>Ubuntu</td>\n",
       "      <td>21.04</td>\n",
       "      <td>{'lib': 'glibc', 'version': '2.33'}</td>\n",
       "      <td>3.9.5</td>\n",
       "    </tr>\n",
       "    <tr>\n",
       "      <th>103135</th>\n",
       "      <td>1.22.3</td>\n",
       "      <td>Linux</td>\n",
       "      <td>5.4.83-Re4son-v7l+</td>\n",
       "      <td>Kali GNU/Linux</td>\n",
       "      <td>2022.2</td>\n",
       "      <td>{'lib': 'glibc', 'version': '2.33'}</td>\n",
       "      <td>3.10.4</td>\n",
       "    </tr>\n",
       "    <tr>\n",
       "      <th>103136</th>\n",
       "      <td>1.22.3</td>\n",
       "      <td>Linux</td>\n",
       "      <td>5.16.0-kali6-686-pae</td>\n",
       "      <td>Kali GNU/Linux</td>\n",
       "      <td>2022.1</td>\n",
       "      <td>{'lib': 'glibc', 'version': '2.33'}</td>\n",
       "      <td>3.9.12</td>\n",
       "    </tr>\n",
       "  </tbody>\n",
       "</table>\n",
       "<p>103137 rows × 7 columns</p>\n",
       "</div>"
      ],
      "text/plain": [
       "       version systemname                     systemversion  \\\n",
       "0       1.22.3     Darwin                            15.6.0   \n",
       "1       1.22.3     Darwin                            17.7.0   \n",
       "2       1.22.3     Darwin                            17.7.0   \n",
       "3       1.22.3     Darwin                            17.7.0   \n",
       "4       1.17.3     Darwin                            18.7.0   \n",
       "...        ...        ...                               ...   \n",
       "103132  1.19.3      Linux  5.10.52-lts-5.10.y+g2075623d65fb   \n",
       "103133  1.21.6      Linux                    5.17.0-1-amd64   \n",
       "103134  1.22.3      Linux              4.18.0-372.el8.s390x   \n",
       "103135  1.22.3      Linux                5.4.83-Re4son-v7l+   \n",
       "103136  1.22.3      Linux              5.16.0-kali6-686-pae   \n",
       "\n",
       "                     distroname   distroversion  \\\n",
       "0                         macOS         10.11.6   \n",
       "1                         macOS         10.13.6   \n",
       "2                         macOS         10.13.6   \n",
       "3                         macOS         10.13.6   \n",
       "4                         macOS         10.14.6   \n",
       "...                         ...             ...   \n",
       "103132  NXP i.MX Release Distro  5.10-hardknott   \n",
       "103133         Debian GNU/Linux         testing   \n",
       "103134                   Ubuntu           21.04   \n",
       "103135           Kali GNU/Linux          2022.2   \n",
       "103136           Kali GNU/Linux          2022.1   \n",
       "\n",
       "                                 distrolibc  python  \n",
       "0                                      None  3.10.4  \n",
       "1                                      None   3.8.1  \n",
       "2                                      None  3.10.4  \n",
       "3                                      None  3.10.4  \n",
       "4                                      None   3.9.6  \n",
       "...                                     ...     ...  \n",
       "103132  {'lib': 'glibc', 'version': '2.33'}   3.9.5  \n",
       "103133  {'lib': 'glibc', 'version': '2.33'}  3.8.13  \n",
       "103134  {'lib': 'glibc', 'version': '2.33'}   3.9.5  \n",
       "103135  {'lib': 'glibc', 'version': '2.33'}  3.10.4  \n",
       "103136  {'lib': 'glibc', 'version': '2.33'}  3.9.12  \n",
       "\n",
       "[103137 rows x 7 columns]"
      ]
     },
     "execution_count": 27,
     "metadata": {},
     "output_type": "execute_result"
    }
   ],
   "source": [
    "sdist_plats"
   ]
  },
  {
   "cell_type": "code",
   "execution_count": 28,
   "id": "c2e5d658",
   "metadata": {
    "execution": {
     "iopub.execute_input": "2022-05-16T23:00:00.093652Z",
     "iopub.status.busy": "2022-05-16T23:00:00.092595Z",
     "iopub.status.idle": "2022-05-16T23:00:00.116489Z",
     "shell.execute_reply": "2022-05-16T23:00:00.117051Z",
     "shell.execute_reply.started": "2022-05-16T22:52:31.177471Z"
    },
    "papermill": {
     "duration": 0.095569,
     "end_time": "2022-05-16T23:00:00.117233",
     "exception": false,
     "start_time": "2022-05-16T23:00:00.021664",
     "status": "completed"
    },
    "tags": []
   },
   "outputs": [],
   "source": [
    "# Analysis time\n",
    "# Use the latest version to guide our analysis\n",
    "analysis_version = \"1.22.3\"\n",
    "sdist_plats_latest = sdist_plats[sdist_plats[\"version\"] == analysis_version].reset_index(drop=True)"
   ]
  },
  {
   "cell_type": "code",
   "execution_count": 29,
   "id": "32df52c2",
   "metadata": {
    "execution": {
     "iopub.execute_input": "2022-05-16T23:00:00.256795Z",
     "iopub.status.busy": "2022-05-16T23:00:00.255748Z",
     "iopub.status.idle": "2022-05-16T23:00:00.383201Z",
     "shell.execute_reply": "2022-05-16T23:00:00.383715Z",
     "shell.execute_reply.started": "2022-05-16T22:52:31.205204Z"
    },
    "papermill": {
     "duration": 0.198259,
     "end_time": "2022-05-16T23:00:00.383888",
     "exception": false,
     "start_time": "2022-05-16T23:00:00.185629",
     "status": "completed"
    },
    "tags": []
   },
   "outputs": [
    {
     "name": "stdout",
     "output_type": "stream",
     "text": [
      "There were 1667 downloads with Python versions less than the min supported version.\n"
     ]
    }
   ],
   "source": [
    "# Filter out people installing on invalid Pythons (numpy 1.22.x supports Python 3.8+ only)\n",
    "from packaging import version\n",
    "# can't compare version numbers directly as strings, use packaging to help\n",
    "sdist_plats_latest[\"python\"] = sdist_plats_latest[\"python\"].apply(version.parse)\n",
    "min_supported_python = version.parse(\"3.8\")\n",
    "valid_sdist_plats_latest = sdist_plats_latest[sdist_plats_latest[\"python\"]>=min_supported_python]\n",
    "print(f\"There were {len(sdist_plats_latest)-len(valid_sdist_plats_latest)} downloads with Python versions less than the min supported version.\")"
   ]
  },
  {
   "cell_type": "code",
   "execution_count": 30,
   "id": "cef2ab31",
   "metadata": {
    "execution": {
     "iopub.execute_input": "2022-05-16T23:00:00.524847Z",
     "iopub.status.busy": "2022-05-16T23:00:00.523515Z",
     "iopub.status.idle": "2022-05-16T23:00:00.532953Z",
     "shell.execute_reply": "2022-05-16T23:00:00.533486Z",
     "shell.execute_reply.started": "2022-05-16T22:56:26.820183Z"
    },
    "papermill": {
     "duration": 0.080982,
     "end_time": "2022-05-16T23:00:00.533712",
     "exception": false,
     "start_time": "2022-05-16T23:00:00.452730",
     "status": "completed"
    },
    "tags": []
   },
   "outputs": [],
   "source": [
    "valid_sdist_groups = valid_sdist_plats_latest.groupby(\"distroname\")\n",
    "sdist_plats_dl_counts = valid_sdist_groups.size().sort_values(ascending=False)\n",
    "top5_sdist_plats = sdist_plats_dl_counts.head(5)\n",
    "top5_sdist_plats.loc[\"other\"] = sdist_plats_dl_counts.iloc[5:].sum()"
   ]
  },
  {
   "cell_type": "code",
   "execution_count": 31,
   "id": "96f74115",
   "metadata": {
    "execution": {
     "iopub.execute_input": "2022-05-16T23:00:00.680107Z",
     "iopub.status.busy": "2022-05-16T23:00:00.679034Z",
     "iopub.status.idle": "2022-05-16T23:00:00.687538Z",
     "shell.execute_reply": "2022-05-16T23:00:00.686947Z",
     "shell.execute_reply.started": "2022-05-16T22:52:31.453942Z"
    },
    "papermill": {
     "duration": 0.082734,
     "end_time": "2022-05-16T23:00:00.687705",
     "exception": false,
     "start_time": "2022-05-16T23:00:00.604971",
     "status": "completed"
    },
    "tags": []
   },
   "outputs": [
    {
     "data": {
      "text/plain": [
       "distroname\n",
       "Ubuntu              2311\n",
       "Alpine Linux        2222\n",
       "macOS               1588\n",
       "CentOS               582\n",
       "Debian GNU/Linux     324\n",
       "other                465\n",
       "dtype: int64"
      ]
     },
     "execution_count": 31,
     "metadata": {},
     "output_type": "execute_result"
    }
   ],
   "source": [
    "top5_sdist_plats"
   ]
  },
  {
   "cell_type": "code",
   "execution_count": 32,
   "id": "5f1cf639",
   "metadata": {
    "execution": {
     "iopub.execute_input": "2022-05-16T23:00:00.849475Z",
     "iopub.status.busy": "2022-05-16T23:00:00.843108Z",
     "iopub.status.idle": "2022-05-16T23:00:01.015846Z",
     "shell.execute_reply": "2022-05-16T23:00:01.014507Z",
     "shell.execute_reply.started": "2022-05-16T22:52:31.468263Z"
    },
    "papermill": {
     "duration": 0.262047,
     "end_time": "2022-05-16T23:00:01.016265",
     "exception": false,
     "start_time": "2022-05-16T23:00:00.754218",
     "status": "completed"
    },
    "tags": []
   },
   "outputs": [
    {
     "data": {
      "text/plain": [
       "<AxesSubplot:>"
      ]
     },
     "execution_count": 32,
     "metadata": {},
     "output_type": "execute_result"
    },
    {
     "data": {
      "image/png": "[encoded data removed]",
      "text/plain": [
       "<Figure size 576x576 with 1 Axes>"
      ]
     },
     "metadata": {},
     "output_type": "display_data"
    }
   ],
   "source": [
    "top5_sdist_plats.plot.pie(autopct=\"%1.1f%%\", figsize=(8,8), label=\"\")"
   ]
  },
  {
   "cell_type": "code",
   "execution_count": 33,
   "id": "a5aab3ef",
   "metadata": {
    "execution": {
     "iopub.execute_input": "2022-05-16T23:00:01.205472Z",
     "iopub.status.busy": "2022-05-16T23:00:01.204125Z",
     "iopub.status.idle": "2022-05-16T23:00:02.074449Z",
     "shell.execute_reply": "2022-05-16T23:00:02.075123Z",
     "shell.execute_reply.started": "2022-05-16T22:56:30.001273Z"
    },
    "papermill": {
     "duration": 0.967846,
     "end_time": "2022-05-16T23:00:02.075309",
     "exception": false,
     "start_time": "2022-05-16T23:00:01.107463",
     "status": "completed"
    },
    "tags": []
   },
   "outputs": [
    {
     "data": {
      "image/png": "[encoded data removed]",
      "text/plain": [
       "<Figure size 1728x1728 with 5 Axes>"
      ]
     },
     "metadata": {},
     "output_type": "display_data"
    }
   ],
   "source": [
    "# Let's look at deeper look by looking at the versions of these\n",
    "# platforms without wheels\n",
    "top5_sdist_plats = top5_sdist_plats.drop(\"other\") # TODO: This is spaghetti, clean it up\n",
    "figure, axis = plt.subplots(1, len(top5_sdist_plats), figsize=(24, 24))\n",
    "for i, platform in enumerate(top5_sdist_plats.index):\n",
    "    plat_distroversions = valid_sdist_groups.get_group(platform).groupby(\"distroversion\").size().sort_values(ascending=False)\n",
    "    top5_plat_distroversions = plat_distroversions.head(5)\n",
    "    top5_plat_distroversions.loc[\"other\"] = plat_distroversions.iloc[5:].sum()\n",
    "    top5_plat_distroversions.plot.pie(ax=axis[i], autopct=\"%1.1f%%\", title=platform, label=\"\")"
   ]
  },
  {
   "cell_type": "markdown",
   "id": "7a7c46de",
   "metadata": {
    "papermill": {
     "duration": 0.070656,
     "end_time": "2022-05-16T23:00:02.219576",
     "exception": false,
     "start_time": "2022-05-16T23:00:02.148920",
     "status": "completed"
    },
    "tags": []
   },
   "source": [
    "Looking at these two graphs, we can see that CentOS is not a problem as Centos 6 is EOL, so it doesn't make sense to have wheels for them.\n",
    "Alpine Linux also looks like a good distribution for numpy to provide wheels for in the form of musllinux wheels.\n",
    "\n",
    "Users of the rest of the distributions should be installing wheels. It is most likely that these people chose to manually install from the sdist."
   ]
  }
 ],
 "metadata": {
  "kernelspec": {
   "display_name": "Python 3",
   "language": "python",
   "name": "python3"
  },
  "language_info": {
   "codemirror_mode": {
    "name": "ipython",
    "version": 3
   },
   "file_extension": ".py",
   "mimetype": "text/x-python",
   "name": "python",
   "nbconvert_exporter": "python",
   "pygments_lexer": "ipython3",
   "version": "3.7.12"
  },
  "papermill": {
   "default_parameters": {},
   "duration": 189.803713,
   "end_time": "2022-05-16T23:00:03.105247",
   "environment_variables": {},
   "exception": null,
   "input_path": "__notebook__.ipynb",
   "output_path": "__notebook__.ipynb",
   "parameters": {},
   "start_time": "2022-05-16T22:56:53.301534",
   "version": "2.3.3"
  }
 },
 "nbformat": 4,
 "nbformat_minor": 5
}
